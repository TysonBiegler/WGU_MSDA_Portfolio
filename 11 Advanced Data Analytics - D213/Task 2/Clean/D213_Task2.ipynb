{
  "nbformat": 4,
  "nbformat_minor": 0,
  "metadata": {
    "colab": {
      "provenance": []
    },
    "kernelspec": {
      "name": "python3",
      "display_name": "Python 3"
    },
    "language_info": {
      "name": "python"
    }
  },
  "cells": [
    {
      "cell_type": "markdown",
      "source": [
        "# Tyson Biegler\n",
        "## Student ID: 012170282\n",
        "## Advanced Data Analytics - D213 Task 2"
      ],
      "metadata": {
        "id": "eqBAEzlBYTkN"
      }
    },
    {
      "cell_type": "markdown",
      "source": [
        "# Part I: Reasearch Question\n",
        "**A1:** Can neural networks be used to predict the sentiment of a review based on\n",
        "previous reviews.\n",
        "\n",
        "**A2:** The goal of this analysis is to build a model that can predit the sentiment of a customer review to determine if the review was favorable or not.\n",
        "\n",
        "**A3:** I will be using Recurrent Neural Networks (RNN) for this assessment; specificially a Long Short-Term Memory (LSTM) model."
      ],
      "metadata": {
        "id": "GNdC2KvkVuVC"
      }
    },
    {
      "cell_type": "markdown",
      "source": [
        "Import Libararies"
      ],
      "metadata": {
        "id": "eazAe_RnYfSj"
      }
    },
    {
      "cell_type": "code",
      "execution_count": 1,
      "metadata": {
        "colab": {
          "base_uri": "https://localhost:8080/"
        },
        "id": "_YXrANEvX-qo",
        "outputId": "da6e5a1b-45f6-402a-ec6d-db396fc1e4e4"
      },
      "outputs": [
        {
          "output_type": "stream",
          "name": "stderr",
          "text": [
            "[nltk_data] Downloading package punkt_tab to /root/nltk_data...\n",
            "[nltk_data]   Package punkt_tab is already up-to-date!\n",
            "[nltk_data] Downloading package averaged_perceptron_tagger_eng to\n",
            "[nltk_data]     /root/nltk_data...\n",
            "[nltk_data]   Package averaged_perceptron_tagger_eng is already up-to-\n",
            "[nltk_data]       date!\n",
            "[nltk_data] Downloading package wordnet to /root/nltk_data...\n",
            "[nltk_data]   Package wordnet is already up-to-date!\n",
            "[nltk_data] Downloading package omw-1.4 to /root/nltk_data...\n",
            "[nltk_data]   Package omw-1.4 is already up-to-date!\n"
          ]
        }
      ],
      "source": [
        "import numpy as np\n",
        "import pandas as pd\n",
        "import matplotlib.pyplot as plt\n",
        "import seaborn as sns\n",
        "import string\n",
        "import re\n",
        "from tensorflow.keras.preprocessing.text import Tokenizer\n",
        "from tensorflow.keras.preprocessing.sequence import pad_sequences\n",
        "from tensorflow.keras.models import Sequential\n",
        "from tensorflow.keras.layers import Input, Embedding, LSTM, Dense\n",
        "from keras.callbacks import EarlyStopping\n",
        "from keras.optimizers import Adam\n",
        "from wordcloud import STOPWORDS\n",
        "from nltk.tokenize import word_tokenize\n",
        "from nltk.stem import WordNetLemmatizer\n",
        "from nltk.corpus import wordnet\n",
        "from sklearn import model_selection\n",
        "\n",
        "import nltk\n",
        "nltk.download('punkt_tab')\n",
        "nltk.download('averaged_perceptron_tagger_eng')\n",
        "nltk.download('wordnet')\n",
        "nltk.download('omw-1.4')\n",
        "\n",
        "pd.set_option('display.max_rows', None)"
      ]
    },
    {
      "cell_type": "markdown",
      "source": [
        "Read the text files"
      ],
      "metadata": {
        "id": "iaSAKbjlYjKS"
      }
    },
    {
      "cell_type": "code",
      "source": [
        "from google.colab import drive\n",
        "drive.mount('/content/drive')"
      ],
      "metadata": {
        "colab": {
          "base_uri": "https://localhost:8080/"
        },
        "id": "sEMVrhLwYwIz",
        "outputId": "d27c453a-3689-4662-9533-cc640382f8ad"
      },
      "execution_count": 2,
      "outputs": [
        {
          "output_type": "stream",
          "name": "stdout",
          "text": [
            "Drive already mounted at /content/drive; to attempt to forcibly remount, call drive.mount(\"/content/drive\", force_remount=True).\n"
          ]
        }
      ]
    },
    {
      "cell_type": "code",
      "source": [
        "#files downloaded from (UCI Machine Learning Repository, n.d.)\n",
        "\n",
        "df1 = pd.read_csv(\"/content/drive/My Drive/Colab Notebooks/D213/amazon_cells_labelled.txt\", sep='\\t', header=None, names=['Review', 'sentiment'])\n",
        "\n",
        "\n",
        "# IMDb file needed to be parsed differently to avoid panda's structure.\n",
        "with open(\"/content/drive/My Drive/Colab Notebooks/D213/imdb_labelled.txt\", \"r\", encoding=\"utf-8\") as df2:\n",
        "    raw_text = df2.read()\n",
        "\n",
        "\n",
        "df3 = pd.read_csv(\"/content/drive/My Drive/Colab Notebooks/D213/yelp_labelled.txt\", sep='\\t', header=None, names=['Review', 'sentiment'])"
      ],
      "metadata": {
        "id": "8hn5RMXBYlio"
      },
      "execution_count": 3,
      "outputs": []
    },
    {
      "cell_type": "code",
      "source": [
        "# Extract reviews and sentiments using regex becuase the imdb data wasnt splitting correctly. So this is my fix.\n",
        "imdb_data = re.findall(r\"(.*?)(?:\\t([01])(?:\\n|$))\", raw_text)"
      ],
      "metadata": {
        "id": "VnshFKtEm4Oa"
      },
      "execution_count": 4,
      "outputs": []
    },
    {
      "cell_type": "code",
      "source": [
        "df2 = pd.DataFrame(imdb_data, columns=['Review', 'sentiment'])\n",
        "df2['sentiment'] = df2['sentiment'].astype(int)"
      ],
      "metadata": {
        "id": "vZMMmIgonFNG"
      },
      "execution_count": 5,
      "outputs": []
    },
    {
      "cell_type": "code",
      "source": [
        "# concatonating all the three dataframes.\n",
        "reviews = pd.concat([df1, df2, df3], ignore_index=True)#(Sewell, n.d.)"
      ],
      "metadata": {
        "id": "deSN_j8UYpYm"
      },
      "execution_count": 6,
      "outputs": []
    },
    {
      "cell_type": "code",
      "source": [
        "reviews.head()"
      ],
      "metadata": {
        "colab": {
          "base_uri": "https://localhost:8080/",
          "height": 206
        },
        "id": "DpHeuxinY7k4",
        "outputId": "c74fcbc6-369f-490e-edd7-50c9c4d4ed17"
      },
      "execution_count": 7,
      "outputs": [
        {
          "output_type": "execute_result",
          "data": {
            "text/plain": [
              "                                              Review  sentiment\n",
              "0  So there is no way for me to plug it in here i...          0\n",
              "1                        Good case, Excellent value.          1\n",
              "2                             Great for the jawbone.          1\n",
              "3  Tied to charger for conversations lasting more...          0\n",
              "4                                  The mic is great.          1"
            ],
            "text/html": [
              "\n",
              "  <div id=\"df-fcd9d8fe-af7c-4e54-a36d-658c358ddd6a\" class=\"colab-df-container\">\n",
              "    <div>\n",
              "<style scoped>\n",
              "    .dataframe tbody tr th:only-of-type {\n",
              "        vertical-align: middle;\n",
              "    }\n",
              "\n",
              "    .dataframe tbody tr th {\n",
              "        vertical-align: top;\n",
              "    }\n",
              "\n",
              "    .dataframe thead th {\n",
              "        text-align: right;\n",
              "    }\n",
              "</style>\n",
              "<table border=\"1\" class=\"dataframe\">\n",
              "  <thead>\n",
              "    <tr style=\"text-align: right;\">\n",
              "      <th></th>\n",
              "      <th>Review</th>\n",
              "      <th>sentiment</th>\n",
              "    </tr>\n",
              "  </thead>\n",
              "  <tbody>\n",
              "    <tr>\n",
              "      <th>0</th>\n",
              "      <td>So there is no way for me to plug it in here i...</td>\n",
              "      <td>0</td>\n",
              "    </tr>\n",
              "    <tr>\n",
              "      <th>1</th>\n",
              "      <td>Good case, Excellent value.</td>\n",
              "      <td>1</td>\n",
              "    </tr>\n",
              "    <tr>\n",
              "      <th>2</th>\n",
              "      <td>Great for the jawbone.</td>\n",
              "      <td>1</td>\n",
              "    </tr>\n",
              "    <tr>\n",
              "      <th>3</th>\n",
              "      <td>Tied to charger for conversations lasting more...</td>\n",
              "      <td>0</td>\n",
              "    </tr>\n",
              "    <tr>\n",
              "      <th>4</th>\n",
              "      <td>The mic is great.</td>\n",
              "      <td>1</td>\n",
              "    </tr>\n",
              "  </tbody>\n",
              "</table>\n",
              "</div>\n",
              "    <div class=\"colab-df-buttons\">\n",
              "\n",
              "  <div class=\"colab-df-container\">\n",
              "    <button class=\"colab-df-convert\" onclick=\"convertToInteractive('df-fcd9d8fe-af7c-4e54-a36d-658c358ddd6a')\"\n",
              "            title=\"Convert this dataframe to an interactive table.\"\n",
              "            style=\"display:none;\">\n",
              "\n",
              "  <svg xmlns=\"http://www.w3.org/2000/svg\" height=\"24px\" viewBox=\"0 -960 960 960\">\n",
              "    <path d=\"M120-120v-720h720v720H120Zm60-500h600v-160H180v160Zm220 220h160v-160H400v160Zm0 220h160v-160H400v160ZM180-400h160v-160H180v160Zm440 0h160v-160H620v160ZM180-180h160v-160H180v160Zm440 0h160v-160H620v160Z\"/>\n",
              "  </svg>\n",
              "    </button>\n",
              "\n",
              "  <style>\n",
              "    .colab-df-container {\n",
              "      display:flex;\n",
              "      gap: 12px;\n",
              "    }\n",
              "\n",
              "    .colab-df-convert {\n",
              "      background-color: #E8F0FE;\n",
              "      border: none;\n",
              "      border-radius: 50%;\n",
              "      cursor: pointer;\n",
              "      display: none;\n",
              "      fill: #1967D2;\n",
              "      height: 32px;\n",
              "      padding: 0 0 0 0;\n",
              "      width: 32px;\n",
              "    }\n",
              "\n",
              "    .colab-df-convert:hover {\n",
              "      background-color: #E2EBFA;\n",
              "      box-shadow: 0px 1px 2px rgba(60, 64, 67, 0.3), 0px 1px 3px 1px rgba(60, 64, 67, 0.15);\n",
              "      fill: #174EA6;\n",
              "    }\n",
              "\n",
              "    .colab-df-buttons div {\n",
              "      margin-bottom: 4px;\n",
              "    }\n",
              "\n",
              "    [theme=dark] .colab-df-convert {\n",
              "      background-color: #3B4455;\n",
              "      fill: #D2E3FC;\n",
              "    }\n",
              "\n",
              "    [theme=dark] .colab-df-convert:hover {\n",
              "      background-color: #434B5C;\n",
              "      box-shadow: 0px 1px 3px 1px rgba(0, 0, 0, 0.15);\n",
              "      filter: drop-shadow(0px 1px 2px rgba(0, 0, 0, 0.3));\n",
              "      fill: #FFFFFF;\n",
              "    }\n",
              "  </style>\n",
              "\n",
              "    <script>\n",
              "      const buttonEl =\n",
              "        document.querySelector('#df-fcd9d8fe-af7c-4e54-a36d-658c358ddd6a button.colab-df-convert');\n",
              "      buttonEl.style.display =\n",
              "        google.colab.kernel.accessAllowed ? 'block' : 'none';\n",
              "\n",
              "      async function convertToInteractive(key) {\n",
              "        const element = document.querySelector('#df-fcd9d8fe-af7c-4e54-a36d-658c358ddd6a');\n",
              "        const dataTable =\n",
              "          await google.colab.kernel.invokeFunction('convertToInteractive',\n",
              "                                                    [key], {});\n",
              "        if (!dataTable) return;\n",
              "\n",
              "        const docLinkHtml = 'Like what you see? Visit the ' +\n",
              "          '<a target=\"_blank\" href=https://colab.research.google.com/notebooks/data_table.ipynb>data table notebook</a>'\n",
              "          + ' to learn more about interactive tables.';\n",
              "        element.innerHTML = '';\n",
              "        dataTable['output_type'] = 'display_data';\n",
              "        await google.colab.output.renderOutput(dataTable, element);\n",
              "        const docLink = document.createElement('div');\n",
              "        docLink.innerHTML = docLinkHtml;\n",
              "        element.appendChild(docLink);\n",
              "      }\n",
              "    </script>\n",
              "  </div>\n",
              "\n",
              "\n",
              "<div id=\"df-ffa6f068-5d21-4821-94be-4587400e375b\">\n",
              "  <button class=\"colab-df-quickchart\" onclick=\"quickchart('df-ffa6f068-5d21-4821-94be-4587400e375b')\"\n",
              "            title=\"Suggest charts\"\n",
              "            style=\"display:none;\">\n",
              "\n",
              "<svg xmlns=\"http://www.w3.org/2000/svg\" height=\"24px\"viewBox=\"0 0 24 24\"\n",
              "     width=\"24px\">\n",
              "    <g>\n",
              "        <path d=\"M19 3H5c-1.1 0-2 .9-2 2v14c0 1.1.9 2 2 2h14c1.1 0 2-.9 2-2V5c0-1.1-.9-2-2-2zM9 17H7v-7h2v7zm4 0h-2V7h2v10zm4 0h-2v-4h2v4z\"/>\n",
              "    </g>\n",
              "</svg>\n",
              "  </button>\n",
              "\n",
              "<style>\n",
              "  .colab-df-quickchart {\n",
              "      --bg-color: #E8F0FE;\n",
              "      --fill-color: #1967D2;\n",
              "      --hover-bg-color: #E2EBFA;\n",
              "      --hover-fill-color: #174EA6;\n",
              "      --disabled-fill-color: #AAA;\n",
              "      --disabled-bg-color: #DDD;\n",
              "  }\n",
              "\n",
              "  [theme=dark] .colab-df-quickchart {\n",
              "      --bg-color: #3B4455;\n",
              "      --fill-color: #D2E3FC;\n",
              "      --hover-bg-color: #434B5C;\n",
              "      --hover-fill-color: #FFFFFF;\n",
              "      --disabled-bg-color: #3B4455;\n",
              "      --disabled-fill-color: #666;\n",
              "  }\n",
              "\n",
              "  .colab-df-quickchart {\n",
              "    background-color: var(--bg-color);\n",
              "    border: none;\n",
              "    border-radius: 50%;\n",
              "    cursor: pointer;\n",
              "    display: none;\n",
              "    fill: var(--fill-color);\n",
              "    height: 32px;\n",
              "    padding: 0;\n",
              "    width: 32px;\n",
              "  }\n",
              "\n",
              "  .colab-df-quickchart:hover {\n",
              "    background-color: var(--hover-bg-color);\n",
              "    box-shadow: 0 1px 2px rgba(60, 64, 67, 0.3), 0 1px 3px 1px rgba(60, 64, 67, 0.15);\n",
              "    fill: var(--button-hover-fill-color);\n",
              "  }\n",
              "\n",
              "  .colab-df-quickchart-complete:disabled,\n",
              "  .colab-df-quickchart-complete:disabled:hover {\n",
              "    background-color: var(--disabled-bg-color);\n",
              "    fill: var(--disabled-fill-color);\n",
              "    box-shadow: none;\n",
              "  }\n",
              "\n",
              "  .colab-df-spinner {\n",
              "    border: 2px solid var(--fill-color);\n",
              "    border-color: transparent;\n",
              "    border-bottom-color: var(--fill-color);\n",
              "    animation:\n",
              "      spin 1s steps(1) infinite;\n",
              "  }\n",
              "\n",
              "  @keyframes spin {\n",
              "    0% {\n",
              "      border-color: transparent;\n",
              "      border-bottom-color: var(--fill-color);\n",
              "      border-left-color: var(--fill-color);\n",
              "    }\n",
              "    20% {\n",
              "      border-color: transparent;\n",
              "      border-left-color: var(--fill-color);\n",
              "      border-top-color: var(--fill-color);\n",
              "    }\n",
              "    30% {\n",
              "      border-color: transparent;\n",
              "      border-left-color: var(--fill-color);\n",
              "      border-top-color: var(--fill-color);\n",
              "      border-right-color: var(--fill-color);\n",
              "    }\n",
              "    40% {\n",
              "      border-color: transparent;\n",
              "      border-right-color: var(--fill-color);\n",
              "      border-top-color: var(--fill-color);\n",
              "    }\n",
              "    60% {\n",
              "      border-color: transparent;\n",
              "      border-right-color: var(--fill-color);\n",
              "    }\n",
              "    80% {\n",
              "      border-color: transparent;\n",
              "      border-right-color: var(--fill-color);\n",
              "      border-bottom-color: var(--fill-color);\n",
              "    }\n",
              "    90% {\n",
              "      border-color: transparent;\n",
              "      border-bottom-color: var(--fill-color);\n",
              "    }\n",
              "  }\n",
              "</style>\n",
              "\n",
              "  <script>\n",
              "    async function quickchart(key) {\n",
              "      const quickchartButtonEl =\n",
              "        document.querySelector('#' + key + ' button');\n",
              "      quickchartButtonEl.disabled = true;  // To prevent multiple clicks.\n",
              "      quickchartButtonEl.classList.add('colab-df-spinner');\n",
              "      try {\n",
              "        const charts = await google.colab.kernel.invokeFunction(\n",
              "            'suggestCharts', [key], {});\n",
              "      } catch (error) {\n",
              "        console.error('Error during call to suggestCharts:', error);\n",
              "      }\n",
              "      quickchartButtonEl.classList.remove('colab-df-spinner');\n",
              "      quickchartButtonEl.classList.add('colab-df-quickchart-complete');\n",
              "    }\n",
              "    (() => {\n",
              "      let quickchartButtonEl =\n",
              "        document.querySelector('#df-ffa6f068-5d21-4821-94be-4587400e375b button');\n",
              "      quickchartButtonEl.style.display =\n",
              "        google.colab.kernel.accessAllowed ? 'block' : 'none';\n",
              "    })();\n",
              "  </script>\n",
              "</div>\n",
              "\n",
              "    </div>\n",
              "  </div>\n"
            ],
            "application/vnd.google.colaboratory.intrinsic+json": {
              "type": "dataframe",
              "variable_name": "reviews",
              "summary": "{\n  \"name\": \"reviews\",\n  \"rows\": 3000,\n  \"fields\": [\n    {\n      \"column\": \"Review\",\n      \"properties\": {\n        \"dtype\": \"string\",\n        \"num_unique_values\": 2983,\n        \"samples\": [\n          \"We've tried to like this place but after 10+ times I think we're done with them.\",\n          \"The script is a big flawed mess.  \",\n          \"It was that loud.Glad to say that the Plantronics 510 maintains a flawless connection to my cell and with no static during normal use.\"\n        ],\n        \"semantic_type\": \"\",\n        \"description\": \"\"\n      }\n    },\n    {\n      \"column\": \"sentiment\",\n      \"properties\": {\n        \"dtype\": \"number\",\n        \"std\": 0,\n        \"min\": 0,\n        \"max\": 1,\n        \"num_unique_values\": 2,\n        \"samples\": [\n          1,\n          0\n        ],\n        \"semantic_type\": \"\",\n        \"description\": \"\"\n      }\n    }\n  ]\n}"
            }
          },
          "metadata": {},
          "execution_count": 7
        }
      ]
    },
    {
      "cell_type": "markdown",
      "source": [
        "# Part II: Data Preperation\n",
        "\n",
        "**B1**. I began the exploratory data analysis (EDA) process by looking at the shape of the data, checking for sentiment counts, and ensuring there were no missing values.   \n"
      ],
      "metadata": {
        "id": "bBHKkCI6ZFmI"
      }
    },
    {
      "cell_type": "code",
      "source": [
        "reviews.shape"
      ],
      "metadata": {
        "colab": {
          "base_uri": "https://localhost:8080/"
        },
        "id": "a5chP0o0ZFGB",
        "outputId": "c13febbc-8400-42b8-aac8-8c57bd28e8b9"
      },
      "execution_count": 8,
      "outputs": [
        {
          "output_type": "execute_result",
          "data": {
            "text/plain": [
              "(3000, 2)"
            ]
          },
          "metadata": {},
          "execution_count": 8
        }
      ]
    },
    {
      "cell_type": "code",
      "source": [
        "#looking for counts of each sentiment\n",
        "reviews.sentiment.value_counts()"
      ],
      "metadata": {
        "colab": {
          "base_uri": "https://localhost:8080/",
          "height": 178
        },
        "id": "QqLJcCGgZSjV",
        "outputId": "26e641c7-06b7-46ca-9feb-0a65bb17b5c5"
      },
      "execution_count": 9,
      "outputs": [
        {
          "output_type": "execute_result",
          "data": {
            "text/plain": [
              "sentiment\n",
              "0    1500\n",
              "1    1500\n",
              "Name: count, dtype: int64"
            ],
            "text/html": [
              "<div>\n",
              "<style scoped>\n",
              "    .dataframe tbody tr th:only-of-type {\n",
              "        vertical-align: middle;\n",
              "    }\n",
              "\n",
              "    .dataframe tbody tr th {\n",
              "        vertical-align: top;\n",
              "    }\n",
              "\n",
              "    .dataframe thead th {\n",
              "        text-align: right;\n",
              "    }\n",
              "</style>\n",
              "<table border=\"1\" class=\"dataframe\">\n",
              "  <thead>\n",
              "    <tr style=\"text-align: right;\">\n",
              "      <th></th>\n",
              "      <th>count</th>\n",
              "    </tr>\n",
              "    <tr>\n",
              "      <th>sentiment</th>\n",
              "      <th></th>\n",
              "    </tr>\n",
              "  </thead>\n",
              "  <tbody>\n",
              "    <tr>\n",
              "      <th>0</th>\n",
              "      <td>1500</td>\n",
              "    </tr>\n",
              "    <tr>\n",
              "      <th>1</th>\n",
              "      <td>1500</td>\n",
              "    </tr>\n",
              "  </tbody>\n",
              "</table>\n",
              "</div><br><label><b>dtype:</b> int64</label>"
            ]
          },
          "metadata": {},
          "execution_count": 9
        }
      ]
    },
    {
      "cell_type": "code",
      "source": [
        "#checking for missing values\n",
        "reviews.isna().sum()"
      ],
      "metadata": {
        "colab": {
          "base_uri": "https://localhost:8080/",
          "height": 147
        },
        "id": "IsIEwXFNZhiS",
        "outputId": "a9f471f7-d138-4e07-8dd7-ee2d611ca699"
      },
      "execution_count": 10,
      "outputs": [
        {
          "output_type": "execute_result",
          "data": {
            "text/plain": [
              "Review       0\n",
              "sentiment    0\n",
              "dtype: int64"
            ],
            "text/html": [
              "<div>\n",
              "<style scoped>\n",
              "    .dataframe tbody tr th:only-of-type {\n",
              "        vertical-align: middle;\n",
              "    }\n",
              "\n",
              "    .dataframe tbody tr th {\n",
              "        vertical-align: top;\n",
              "    }\n",
              "\n",
              "    .dataframe thead th {\n",
              "        text-align: right;\n",
              "    }\n",
              "</style>\n",
              "<table border=\"1\" class=\"dataframe\">\n",
              "  <thead>\n",
              "    <tr style=\"text-align: right;\">\n",
              "      <th></th>\n",
              "      <th>0</th>\n",
              "    </tr>\n",
              "  </thead>\n",
              "  <tbody>\n",
              "    <tr>\n",
              "      <th>Review</th>\n",
              "      <td>0</td>\n",
              "    </tr>\n",
              "    <tr>\n",
              "      <th>sentiment</th>\n",
              "      <td>0</td>\n",
              "    </tr>\n",
              "  </tbody>\n",
              "</table>\n",
              "</div><br><label><b>dtype:</b> int64</label>"
            ]
          },
          "metadata": {},
          "execution_count": 10
        }
      ]
    },
    {
      "cell_type": "markdown",
      "source": [
        "Before and after cleaning the data, I calculated the vocabulary size using keras `tokenizer`. Before cleaning, the vocabulary contained all uniqe tokens including the puncutuation and non-english characters that will be shown in the next section. The total vocabulary size before cleaning was 5271."
      ],
      "metadata": {
        "id": "_aaYrMUuOKNp"
      }
    },
    {
      "cell_type": "code",
      "source": [
        "#Tokenize to get the vocabulary size across all reviews\n",
        "tokenizer = Tokenizer()\n",
        "tokenizer.fit_on_texts(reviews.Review)\n",
        "print(\"Vocabulary size: \", len(tokenizer.word_index))"
      ],
      "metadata": {
        "colab": {
          "base_uri": "https://localhost:8080/"
        },
        "id": "Ts9Q7TMuZn_f",
        "outputId": "ddc70590-9e03-4392-d7d3-9d759d863fef"
      },
      "execution_count": 11,
      "outputs": [
        {
          "output_type": "stream",
          "name": "stdout",
          "text": [
            "Vocabulary size:  5271\n"
          ]
        }
      ]
    },
    {
      "cell_type": "markdown",
      "source": [
        "To check for non-english characters or emojies, I extracted all the unique values from the three concatonated dataframes using a for loop. The full list of unique characters can be found below. Later I removed all of the non-english characters as part of the cleaning process."
      ],
      "metadata": {
        "id": "BWChoiWhOMkw"
      }
    },
    {
      "cell_type": "code",
      "source": [
        "#Create list of characters to see if there are non english characters included in the dataframe\n",
        "text = reviews['Review']\n",
        "char_list = []\n",
        "for i in text:\n",
        "    for char in i:\n",
        "        if char not in char_list:\n",
        "            char_list.append(char)\n",
        "print(char_list)"
      ],
      "metadata": {
        "colab": {
          "base_uri": "https://localhost:8080/"
        },
        "id": "k76MMBLNaK9j",
        "outputId": "c2592819-f9f4-4964-e0e5-a714a1ca17fd"
      },
      "execution_count": 12,
      "outputs": [
        {
          "output_type": "stream",
          "name": "stdout",
          "text": [
            "['S', 'o', ' ', 't', 'h', 'e', 'r', 'i', 's', 'n', 'w', 'a', 'y', 'f', 'm', 'p', 'l', 'u', 'g', 'U', 'I', 'b', 'c', 'v', '.', 'G', 'd', ',', 'E', 'x', 'j', 'T', '4', '5', 'M', 'A', 'J', 'O', 'R', 'P', 'B', 'L', '!', 'z', 'N', 'W', 'q', 'H', '+', 'V', '\"', 'Y', 'D', 'F', 'k', \"'\", 'K', 'C', '/', '7', '3', '6', '8', '0', '2', '?', 'Z', '-', '1', ':', ')', '(', 'Q', '&', '$', '*', ';', 'X', '%', '9', '#', '[', ']', '\\x96', 'é', '\\x85', 'å', '\\x97', 'ê']\n"
          ]
        }
      ]
    },
    {
      "cell_type": "markdown",
      "source": [
        "To determine the maximum sequence length, I created a word_count column and identified the longest review based on tokens. I found that the IMDB data would combine several reviews into one line, resulting in a very long review. This was fixed by using special parcing to avoid pandas structure as it would not seperate by `\"\\t\"` like the other two dataframes."
      ],
      "metadata": {
        "id": "oWKwn8-XO1sh"
      }
    },
    {
      "cell_type": "markdown",
      "source": [
        "**B2**.  The goal of tokenization is to convert each review into a numeric value that can be traced back to a unique word in the dataset.\n",
        "\n",
        "\n",
        "To ensure that the data was clean and standardized before tokenization, I applied the following steps:\n",
        "\n",
        "1.   Converted to lowercase\n",
        "2.   Removed punctuation\n",
        "3.   Removed stropwords\n",
        "4.   lemmatization\n",
        "\n"
      ],
      "metadata": {
        "id": "fHJTZvXGMQFJ"
      }
    },
    {
      "cell_type": "code",
      "source": [
        "#convert to lowercase\n",
        "reviews.Review = reviews.Review.str.lower()\n",
        "\n",
        "#remove punctuation\n",
        "reviews.Review = reviews.Review.apply(lambda x: re.sub(r'[^a-z]', ' ', x))\n",
        "reviews.Review = reviews.Review.apply(lambda x: re.sub(r'\\s+[a-z]\\s+', ' ', x))\n",
        "\n",
        "#remove stopwords\n",
        "reviews.Review = reviews.Review.apply(lambda x: ' '.join([word for word in x.split() if word not in (STOPWORDS)]))\n",
        "\n",
        "#lemmatization\n",
        "def get_wordnet_pos(word):\n",
        "    #Map POS tag to first character lemmatize() accepts\n",
        "    tag = nltk.pos_tag([word])[0][1][0].upper()\n",
        "    tag_dict = {\"J\": wordnet.ADJ,\n",
        "                \"N\": wordnet.NOUN,\n",
        "                \"V\": wordnet.VERB,\n",
        "                \"R\": wordnet.ADV}\n",
        "    return tag_dict.get(tag, wordnet.NOUN)\n",
        "lemmatizer= WordNetLemmatizer()\n",
        "reviews.Review = \\\n",
        "    reviews.Review.apply(lambda x: ' '.join([lemmatizer.lemmatize(w, get_wordnet_pos(w)) for w in word_tokenize(x)]))\n"
      ],
      "metadata": {
        "id": "LX7iTyBfaeOA"
      },
      "execution_count": 13,
      "outputs": []
    },
    {
      "cell_type": "markdown",
      "source": [
        "I added a column to store the word counts, and removed reviews in which the word count was less than 3 words as they will not likely contribute anything meaningful to the model."
      ],
      "metadata": {
        "id": "8phx6i9Ri66B"
      }
    },
    {
      "cell_type": "code",
      "source": [
        "#Create a column for word count\n",
        "reviews['Word_Count'] = reviews['Review'].apply(lambda x: len(str(x).split()))"
      ],
      "metadata": {
        "id": "sVDPUt30hUIM"
      },
      "execution_count": 14,
      "outputs": []
    },
    {
      "cell_type": "code",
      "source": [
        "#Remove entires with 3 words or less to remove noise\n",
        "reviews = reviews[reviews['Word_Count'] > 3]"
      ],
      "metadata": {
        "id": "YHpVxEDThbIb"
      },
      "execution_count": 15,
      "outputs": []
    },
    {
      "cell_type": "markdown",
      "source": [
        "Now that the data is ready for tokenization, I run the following code to generate a vocabulary that essentially maps each word to a unique number. The vocabulary before clenaning was 5271 and is now 3995 after cleaning."
      ],
      "metadata": {
        "id": "Bsljwie9nvus"
      }
    },
    {
      "cell_type": "code",
      "source": [
        "#Tokenizing after cleaning\n",
        "tokenizer = Tokenizer()\n",
        "tokenizer.fit_on_texts(reviews.Review)\n",
        "vocab_size = len(tokenizer.word_index) + 1\n",
        "print(\"Vocab size after text cleaning: \", vocab_size)"
      ],
      "metadata": {
        "colab": {
          "base_uri": "https://localhost:8080/"
        },
        "id": "u5oTiq-Lhi8d",
        "outputId": "2317a2ff-a80e-46a7-8ccb-03c458abf2ae"
      },
      "execution_count": 16,
      "outputs": [
        {
          "output_type": "stream",
          "name": "stdout",
          "text": [
            "Vocab size after text cleaning:  3998\n"
          ]
        }
      ]
    },
    {
      "cell_type": "code",
      "source": [
        "#The longest review\n",
        "print(reviews.loc[reviews['Word_Count'].idxmax(), 'Review'])\n"
      ],
      "metadata": {
        "colab": {
          "base_uri": "https://localhost:8080/"
        },
        "id": "NnKDIU9blFE2",
        "outputId": "86c6daf8-ada2-458c-f9bc-f61754b963a1"
      },
      "execution_count": 17,
      "outputs": [
        {
          "output_type": "stream",
          "name": "stdout",
          "text": [
            "masterful piece film make many theme simmer occasionally boil wart study poet bohemian self indulgent wartime year span aerial bombardment london outward tranquillity welsh coastal retreat borderline friendship lust love dedication art experience versus practical concern jealousy rivalry cowardice egotism versus heroism self sacrifice\n"
          ]
        }
      ]
    },
    {
      "cell_type": "markdown",
      "source": [
        "**B3**. Because each review has different lengths, it is important to pad each sequence to make them all the same length."
      ],
      "metadata": {
        "id": "_0J6MEcIMkqa"
      }
    },
    {
      "cell_type": "code",
      "source": [
        "#Set max length based on word count of longest review\n",
        "max_length = max(reviews['Word_Count'])\n",
        "print(\"Number of words in longest review: \", max_length)"
      ],
      "metadata": {
        "colab": {
          "base_uri": "https://localhost:8080/"
        },
        "id": "fp0kTrp-hyM_",
        "outputId": "e9cbf787-d99f-4ef8-b8b3-7af9683d96d4"
      },
      "execution_count": 18,
      "outputs": [
        {
          "output_type": "stream",
          "name": "stdout",
          "text": [
            "Number of words in longest review:  44\n"
          ]
        }
      ]
    },
    {
      "cell_type": "code",
      "source": [
        "#The longest review\n",
        "index_of_longest_sentence = reviews['Word_Count'].idxmax()\n",
        "longest_sentence = reviews.loc[index_of_longest_sentence, 'Review']\n",
        "print(longest_sentence)"
      ],
      "metadata": {
        "colab": {
          "base_uri": "https://localhost:8080/"
        },
        "id": "HLGy6sEJjzdo",
        "outputId": "6887469a-f45e-4275-d78b-27723ac90343"
      },
      "execution_count": 19,
      "outputs": [
        {
          "output_type": "stream",
          "name": "stdout",
          "text": [
            "masterful piece film make many theme simmer occasionally boil wart study poet bohemian self indulgent wartime year span aerial bombardment london outward tranquillity welsh coastal retreat borderline friendship lust love dedication art experience versus practical concern jealousy rivalry cowardice egotism versus heroism self sacrifice\n"
          ]
        }
      ]
    },
    {
      "cell_type": "markdown",
      "source": [
        "I am using the longest reivew to be the 'padding length' for the rest of the reviews. The padding also occurs before the training split but after tokenization."
      ],
      "metadata": {
        "id": "03OG9_UFqgOr"
      }
    },
    {
      "cell_type": "code",
      "source": [
        "#Tokenize to encode to numeric values\n",
        "tokenizer= Tokenizer(num_words= vocab_size)\n",
        "tokenizer.fit_on_texts(reviews.Review)\n",
        "encoded_reviews= tokenizer.texts_to_sequences(reviews.Review)\n",
        "padded_reviews= pad_sequences(encoded_reviews, maxlen= max_length)"
      ],
      "metadata": {
        "id": "tfYyqZI5nyy5"
      },
      "execution_count": 20,
      "outputs": []
    },
    {
      "cell_type": "markdown",
      "source": [
        "The following is the padded sequence of the longest review that was displayed earlier."
      ],
      "metadata": {
        "id": "rHaBrOFPqi0X"
      }
    },
    {
      "cell_type": "code",
      "source": [
        "#taking a look at the padded review of the longest review\n",
        "padded_reviews[1620]"
      ],
      "metadata": {
        "colab": {
          "base_uri": "https://localhost:8080/"
        },
        "id": "tCqq3wc1n9Wh",
        "outputId": "30a5d657-454f-4696-9a8b-455c8723f763"
      },
      "execution_count": 21,
      "outputs": [
        {
          "output_type": "execute_result",
          "data": {
            "text/plain": [
              "array([   0,    0,    0,    0,    0,    0,    0,    0,    0,    0,    0,\n",
              "          0,    0,    0,    0,    0,    0,    0,    0,    0,    0,    0,\n",
              "          0,    0,    0,    0,    0,    0,    0,    0,    0,    0,    0,\n",
              "          0,    0,    0,    0,    0,    0,   85, 1742, 1743,  845, 3618],\n",
              "      dtype=int32)"
            ]
          },
          "metadata": {},
          "execution_count": 21
        }
      ]
    },
    {
      "cell_type": "markdown",
      "source": [
        "**B4**. In this assessment the data is represented as binary values of `0` for negative sentiment and `1` for positive sentiment. Becuase I am classifying into two categories, the the activation function is `sigmoid` and there is `1` output.  \n",
        "\n",
        "`model.add(Dense(1, activation= 'sigmoid')) ` (Sewell, n.d.)\n"
      ],
      "metadata": {
        "id": "LA6YxSSoMmkS"
      }
    },
    {
      "cell_type": "code",
      "source": [
        "#Sentiment categories and their count\n",
        "reviews.sentiment.value_counts()"
      ],
      "metadata": {
        "colab": {
          "base_uri": "https://localhost:8080/",
          "height": 178
        },
        "id": "8QBD_OK0r2VI",
        "outputId": "8885faac-a556-49d1-962a-3c5bafe6fb0f"
      },
      "execution_count": 22,
      "outputs": [
        {
          "output_type": "execute_result",
          "data": {
            "text/plain": [
              "sentiment\n",
              "0    1039\n",
              "1    1021\n",
              "Name: count, dtype: int64"
            ],
            "text/html": [
              "<div>\n",
              "<style scoped>\n",
              "    .dataframe tbody tr th:only-of-type {\n",
              "        vertical-align: middle;\n",
              "    }\n",
              "\n",
              "    .dataframe tbody tr th {\n",
              "        vertical-align: top;\n",
              "    }\n",
              "\n",
              "    .dataframe thead th {\n",
              "        text-align: right;\n",
              "    }\n",
              "</style>\n",
              "<table border=\"1\" class=\"dataframe\">\n",
              "  <thead>\n",
              "    <tr style=\"text-align: right;\">\n",
              "      <th></th>\n",
              "      <th>count</th>\n",
              "    </tr>\n",
              "    <tr>\n",
              "      <th>sentiment</th>\n",
              "      <th></th>\n",
              "    </tr>\n",
              "  </thead>\n",
              "  <tbody>\n",
              "    <tr>\n",
              "      <th>0</th>\n",
              "      <td>1039</td>\n",
              "    </tr>\n",
              "    <tr>\n",
              "      <th>1</th>\n",
              "      <td>1021</td>\n",
              "    </tr>\n",
              "  </tbody>\n",
              "</table>\n",
              "</div><br><label><b>dtype:</b> int64</label>"
            ]
          },
          "metadata": {},
          "execution_count": 22
        }
      ]
    },
    {
      "cell_type": "markdown",
      "source": [
        "**B5**. I split the data into the industry standard, 80/20 split into training and test."
      ],
      "metadata": {
        "id": "nCzZwJ9cMoCp"
      }
    },
    {
      "cell_type": "code",
      "source": [
        "#Splitting 80/20\n",
        "X_train, X_test, y_train, y_test = model_selection.train_test_split(\n",
        "    padded_reviews,\n",
        "    reviews['sentiment'],\n",
        "    test_size=0.20,\n",
        "    random_state=386,\n",
        "    stratify=reviews['sentiment']\n",
        ")"
      ],
      "metadata": {
        "id": "uQSpP2PRoMv1"
      },
      "execution_count": 23,
      "outputs": []
    },
    {
      "cell_type": "code",
      "source": [
        "train_shape = X_train.shape[0]\n",
        "print(\"Input shape: \", train_shape)"
      ],
      "metadata": {
        "colab": {
          "base_uri": "https://localhost:8080/"
        },
        "id": "pm-6F7JTpYnJ",
        "outputId": "3c8599d8-e50e-4cd8-f37b-51f4a9a117f9"
      },
      "execution_count": 24,
      "outputs": [
        {
          "output_type": "stream",
          "name": "stdout",
          "text": [
            "Input shape:  1648\n"
          ]
        }
      ]
    },
    {
      "cell_type": "markdown",
      "source": [
        "**B6**. The following files will be included in the submission files:\n",
        "\n",
        "*   `reviews_training.csv`\n",
        "*  ` reviews_test.csv`\n",
        "*   `labels_training.csv`\n",
        "*   `labels_test.csv`\n",
        "\n",
        "\n"
      ],
      "metadata": {
        "id": "_31JUEqNMqwx"
      }
    },
    {
      "cell_type": "markdown",
      "source": [
        "Prepping the data for the model"
      ],
      "metadata": {
        "id": "X5HC32DTh6Og"
      }
    },
    {
      "cell_type": "code",
      "source": [
        "#exporting the files for B6\n",
        "pd.DataFrame(X_train).to_csv('/content/drive/My Drive/Colab Notebooks/D213/reviews_training.csv')\n",
        "pd.DataFrame(X_test).to_csv('/content/drive/My Drive/Colab Notebooks/D213/reviews_test.csv')\n",
        "\n",
        "pd.DataFrame(y_train).to_csv('/content/drive/My Drive/Colab Notebooks/D213/labels_training.csv')\n",
        "pd.DataFrame(y_test).to_csv('/content/drive/My Drive/Colab Notebooks/D213/labels_test.csv')"
      ],
      "metadata": {
        "id": "3ZLJ65h5pdhy"
      },
      "execution_count": 25,
      "outputs": []
    },
    {
      "cell_type": "markdown",
      "source": [
        "#Part III: Network Architecture\n",
        "\n",
        "**C1.** The following is the `model.summary()` of the function from tensorflow.\n"
      ],
      "metadata": {
        "id": "lU9OXyArZpgT"
      }
    },
    {
      "cell_type": "code",
      "source": [
        "#(Sewell, n.d.)\n",
        "model= Sequential()\n",
        "model.add(Input(shape= (train_shape, )))\n",
        "model.add(Embedding(vocab_size, 100))\n",
        "model.add(LSTM(128, dropout= 0.5, recurrent_dropout= 0.5, activation= 'tanh'))\n",
        "model.add(Dense(1, activation= 'sigmoid'))\n",
        "model.compile(loss= 'binary_crossentropy', optimizer= Adam(learning_rate= 0.0001), metrics= ['accuracy'])\n",
        "print(model.summary())"
      ],
      "metadata": {
        "colab": {
          "base_uri": "https://localhost:8080/",
          "height": 255
        },
        "id": "7fPXvsoWpqdI",
        "outputId": "847b5197-f39f-436f-b827-92110dc633d1"
      },
      "execution_count": 26,
      "outputs": [
        {
          "output_type": "display_data",
          "data": {
            "text/plain": [
              "\u001b[1mModel: \"sequential\"\u001b[0m\n"
            ],
            "text/html": [
              "<pre style=\"white-space:pre;overflow-x:auto;line-height:normal;font-family:Menlo,'DejaVu Sans Mono',consolas,'Courier New',monospace\"><span style=\"font-weight: bold\">Model: \"sequential\"</span>\n",
              "</pre>\n"
            ]
          },
          "metadata": {}
        },
        {
          "output_type": "display_data",
          "data": {
            "text/plain": [
              "┏━━━━━━━━━━━━━━━━━━━━━━━━━━━━━━━━━┳━━━━━━━━━━━━━━━━━━━━━━━━┳━━━━━━━━━━━━━━━┓\n",
              "┃\u001b[1m \u001b[0m\u001b[1mLayer (type)                   \u001b[0m\u001b[1m \u001b[0m┃\u001b[1m \u001b[0m\u001b[1mOutput Shape          \u001b[0m\u001b[1m \u001b[0m┃\u001b[1m \u001b[0m\u001b[1m      Param #\u001b[0m\u001b[1m \u001b[0m┃\n",
              "┡━━━━━━━━━━━━━━━━━━━━━━━━━━━━━━━━━╇━━━━━━━━━━━━━━━━━━━━━━━━╇━━━━━━━━━━━━━━━┩\n",
              "│ embedding (\u001b[38;5;33mEmbedding\u001b[0m)           │ (\u001b[38;5;45mNone\u001b[0m, \u001b[38;5;34m1648\u001b[0m, \u001b[38;5;34m100\u001b[0m)      │       \u001b[38;5;34m399,800\u001b[0m │\n",
              "├─────────────────────────────────┼────────────────────────┼───────────────┤\n",
              "│ lstm (\u001b[38;5;33mLSTM\u001b[0m)                     │ (\u001b[38;5;45mNone\u001b[0m, \u001b[38;5;34m128\u001b[0m)            │       \u001b[38;5;34m117,248\u001b[0m │\n",
              "├─────────────────────────────────┼────────────────────────┼───────────────┤\n",
              "│ dense (\u001b[38;5;33mDense\u001b[0m)                   │ (\u001b[38;5;45mNone\u001b[0m, \u001b[38;5;34m1\u001b[0m)              │           \u001b[38;5;34m129\u001b[0m │\n",
              "└─────────────────────────────────┴────────────────────────┴───────────────┘\n"
            ],
            "text/html": [
              "<pre style=\"white-space:pre;overflow-x:auto;line-height:normal;font-family:Menlo,'DejaVu Sans Mono',consolas,'Courier New',monospace\">┏━━━━━━━━━━━━━━━━━━━━━━━━━━━━━━━━━┳━━━━━━━━━━━━━━━━━━━━━━━━┳━━━━━━━━━━━━━━━┓\n",
              "┃<span style=\"font-weight: bold\"> Layer (type)                    </span>┃<span style=\"font-weight: bold\"> Output Shape           </span>┃<span style=\"font-weight: bold\">       Param # </span>┃\n",
              "┡━━━━━━━━━━━━━━━━━━━━━━━━━━━━━━━━━╇━━━━━━━━━━━━━━━━━━━━━━━━╇━━━━━━━━━━━━━━━┩\n",
              "│ embedding (<span style=\"color: #0087ff; text-decoration-color: #0087ff\">Embedding</span>)           │ (<span style=\"color: #00d7ff; text-decoration-color: #00d7ff\">None</span>, <span style=\"color: #00af00; text-decoration-color: #00af00\">1648</span>, <span style=\"color: #00af00; text-decoration-color: #00af00\">100</span>)      │       <span style=\"color: #00af00; text-decoration-color: #00af00\">399,800</span> │\n",
              "├─────────────────────────────────┼────────────────────────┼───────────────┤\n",
              "│ lstm (<span style=\"color: #0087ff; text-decoration-color: #0087ff\">LSTM</span>)                     │ (<span style=\"color: #00d7ff; text-decoration-color: #00d7ff\">None</span>, <span style=\"color: #00af00; text-decoration-color: #00af00\">128</span>)            │       <span style=\"color: #00af00; text-decoration-color: #00af00\">117,248</span> │\n",
              "├─────────────────────────────────┼────────────────────────┼───────────────┤\n",
              "│ dense (<span style=\"color: #0087ff; text-decoration-color: #0087ff\">Dense</span>)                   │ (<span style=\"color: #00d7ff; text-decoration-color: #00d7ff\">None</span>, <span style=\"color: #00af00; text-decoration-color: #00af00\">1</span>)              │           <span style=\"color: #00af00; text-decoration-color: #00af00\">129</span> │\n",
              "└─────────────────────────────────┴────────────────────────┴───────────────┘\n",
              "</pre>\n"
            ]
          },
          "metadata": {}
        },
        {
          "output_type": "display_data",
          "data": {
            "text/plain": [
              "\u001b[1m Total params: \u001b[0m\u001b[38;5;34m517,177\u001b[0m (1.97 MB)\n"
            ],
            "text/html": [
              "<pre style=\"white-space:pre;overflow-x:auto;line-height:normal;font-family:Menlo,'DejaVu Sans Mono',consolas,'Courier New',monospace\"><span style=\"font-weight: bold\"> Total params: </span><span style=\"color: #00af00; text-decoration-color: #00af00\">517,177</span> (1.97 MB)\n",
              "</pre>\n"
            ]
          },
          "metadata": {}
        },
        {
          "output_type": "display_data",
          "data": {
            "text/plain": [
              "\u001b[1m Trainable params: \u001b[0m\u001b[38;5;34m517,177\u001b[0m (1.97 MB)\n"
            ],
            "text/html": [
              "<pre style=\"white-space:pre;overflow-x:auto;line-height:normal;font-family:Menlo,'DejaVu Sans Mono',consolas,'Courier New',monospace\"><span style=\"font-weight: bold\"> Trainable params: </span><span style=\"color: #00af00; text-decoration-color: #00af00\">517,177</span> (1.97 MB)\n",
              "</pre>\n"
            ]
          },
          "metadata": {}
        },
        {
          "output_type": "display_data",
          "data": {
            "text/plain": [
              "\u001b[1m Non-trainable params: \u001b[0m\u001b[38;5;34m0\u001b[0m (0.00 B)\n"
            ],
            "text/html": [
              "<pre style=\"white-space:pre;overflow-x:auto;line-height:normal;font-family:Menlo,'DejaVu Sans Mono',consolas,'Courier New',monospace\"><span style=\"font-weight: bold\"> Non-trainable params: </span><span style=\"color: #00af00; text-decoration-color: #00af00\">0</span> (0.00 B)\n",
              "</pre>\n"
            ]
          },
          "metadata": {}
        },
        {
          "output_type": "stream",
          "name": "stdout",
          "text": [
            "None\n"
          ]
        }
      ]
    },
    {
      "cell_type": "markdown",
      "source": [
        "**C2.** This is a seqential model with three layers. The first layer is an `embedding` layer, which has 399,800 pparameters, which are learned during training. The second layers is an `LSTM` layer to help the model process sentences. The third layer is a `dense` layer with 1 unit, which outputs a binary prediction of either `0` or `1` for positive or negative."
      ],
      "metadata": {
        "id": "kElBgL5w0Y5R"
      }
    },
    {
      "cell_type": "markdown",
      "source": [
        "**C3**. The activation functions were `tanh` for the LSTM layer, and `sigmoid` in the dense layer to allow for the binary output of 0 or 1. The loss function is `binary_crossentropy` because this task is a binary classificaiton of 1 and 0 as mentioned before. This model used the `Adam` optimizer with a 0.0001 learning rate for smooth training (GeeksforGeeks, 2025). The stopping criteria was set to a patience of 3 epochs since the total epochs in the `model.fit()` was set to 15. Lastly, the evaluation metric was set to `accuracy`."
      ],
      "metadata": {
        "id": "8buDbJ0b0cJX"
      }
    },
    {
      "cell_type": "markdown",
      "source": [
        "Part IV: Model Evaluation\n"
      ],
      "metadata": {
        "id": "MEClZmUcZ-ry"
      }
    },
    {
      "cell_type": "markdown",
      "source": [
        "**D1.** As noted in the previous section, the pattience is set to 3 becuase the total epochs to be ran is set to 15. The following code demonstrates that the early_stopping was never activated since the model continously improved through the 15 epochs. However, the validation accuracy did appear to plateau around 8 epochs.\n",
        "\n",
        "**D2.** The model appeared to perform well with the training and validation accuracy closely alligned. I orginally ran the model with 20 epochs and a patience of 5 but the validation accuracy platteued around 7 epochs, suggesting overfitting. Making these changes impoved accuracy and vaidation accuracy."
      ],
      "metadata": {
        "id": "7wTyjVZFoStC"
      }
    },
    {
      "cell_type": "code",
      "source": [
        "early_stopping = EarlyStopping(patience= 3)"
      ],
      "metadata": {
        "id": "9hcrZhUTpzwz"
      },
      "execution_count": 27,
      "outputs": []
    },
    {
      "cell_type": "code",
      "source": [
        "history = model.fit(X_train, y_train, epochs= 20, validation_data= (X_test, y_test), callbacks= [early_stopping]) # Setting epochs to 20 (Sewell, n.d.)"
      ],
      "metadata": {
        "colab": {
          "base_uri": "https://localhost:8080/"
        },
        "id": "wYOsbTHhp3Vq",
        "outputId": "f2dfe1c1-1659-4819-fefa-dafc41232cc6"
      },
      "execution_count": 28,
      "outputs": [
        {
          "output_type": "stream",
          "name": "stdout",
          "text": [
            "Epoch 1/20\n",
            "\u001b[1m52/52\u001b[0m \u001b[32m━━━━━━━━━━━━━━━━━━━━\u001b[0m\u001b[37m\u001b[0m \u001b[1m13s\u001b[0m 135ms/step - accuracy: 0.5018 - loss: 0.6938 - val_accuracy: 0.5146 - val_loss: 0.6923\n",
            "Epoch 2/20\n",
            "\u001b[1m52/52\u001b[0m \u001b[32m━━━━━━━━━━━━━━━━━━━━\u001b[0m\u001b[37m\u001b[0m \u001b[1m10s\u001b[0m 131ms/step - accuracy: 0.5267 - loss: 0.6922 - val_accuracy: 0.5243 - val_loss: 0.6914\n",
            "Epoch 3/20\n",
            "\u001b[1m52/52\u001b[0m \u001b[32m━━━━━━━━━━━━━━━━━━━━\u001b[0m\u001b[37m\u001b[0m \u001b[1m11s\u001b[0m 157ms/step - accuracy: 0.5914 - loss: 0.6892 - val_accuracy: 0.5267 - val_loss: 0.6902\n",
            "Epoch 4/20\n",
            "\u001b[1m52/52\u001b[0m \u001b[32m━━━━━━━━━━━━━━━━━━━━\u001b[0m\u001b[37m\u001b[0m \u001b[1m6s\u001b[0m 118ms/step - accuracy: 0.5885 - loss: 0.6883 - val_accuracy: 0.5777 - val_loss: 0.6886\n",
            "Epoch 5/20\n",
            "\u001b[1m52/52\u001b[0m \u001b[32m━━━━━━━━━━━━━━━━━━━━\u001b[0m\u001b[37m\u001b[0m \u001b[1m8s\u001b[0m 157ms/step - accuracy: 0.6236 - loss: 0.6854 - val_accuracy: 0.5971 - val_loss: 0.6859\n",
            "Epoch 6/20\n",
            "\u001b[1m52/52\u001b[0m \u001b[32m━━━━━━━━━━━━━━━━━━━━\u001b[0m\u001b[37m\u001b[0m \u001b[1m6s\u001b[0m 117ms/step - accuracy: 0.6720 - loss: 0.6802 - val_accuracy: 0.6942 - val_loss: 0.6816\n",
            "Epoch 7/20\n",
            "\u001b[1m52/52\u001b[0m \u001b[32m━━━━━━━━━━━━━━━━━━━━\u001b[0m\u001b[37m\u001b[0m \u001b[1m12s\u001b[0m 147ms/step - accuracy: 0.7468 - loss: 0.6713 - val_accuracy: 0.7063 - val_loss: 0.6736\n",
            "Epoch 8/20\n",
            "\u001b[1m52/52\u001b[0m \u001b[32m━━━━━━━━━━━━━━━━━━━━\u001b[0m\u001b[37m\u001b[0m \u001b[1m11s\u001b[0m 156ms/step - accuracy: 0.7658 - loss: 0.6538 - val_accuracy: 0.7524 - val_loss: 0.6593\n",
            "Epoch 9/20\n",
            "\u001b[1m52/52\u001b[0m \u001b[32m━━━━━━━━━━━━━━━━━━━━\u001b[0m\u001b[37m\u001b[0m \u001b[1m6s\u001b[0m 116ms/step - accuracy: 0.8027 - loss: 0.6275 - val_accuracy: 0.6359 - val_loss: 0.6406\n",
            "Epoch 10/20\n",
            "\u001b[1m52/52\u001b[0m \u001b[32m━━━━━━━━━━━━━━━━━━━━\u001b[0m\u001b[37m\u001b[0m \u001b[1m8s\u001b[0m 155ms/step - accuracy: 0.8150 - loss: 0.5893 - val_accuracy: 0.6893 - val_loss: 0.6101\n",
            "Epoch 11/20\n",
            "\u001b[1m52/52\u001b[0m \u001b[32m━━━━━━━━━━━━━━━━━━━━\u001b[0m\u001b[37m\u001b[0m \u001b[1m6s\u001b[0m 116ms/step - accuracy: 0.8464 - loss: 0.5384 - val_accuracy: 0.7646 - val_loss: 0.5736\n",
            "Epoch 12/20\n",
            "\u001b[1m52/52\u001b[0m \u001b[32m━━━━━━━━━━━━━━━━━━━━\u001b[0m\u001b[37m\u001b[0m \u001b[1m8s\u001b[0m 157ms/step - accuracy: 0.8614 - loss: 0.4757 - val_accuracy: 0.7597 - val_loss: 0.5454\n",
            "Epoch 13/20\n",
            "\u001b[1m52/52\u001b[0m \u001b[32m━━━━━━━━━━━━━━━━━━━━\u001b[0m\u001b[37m\u001b[0m \u001b[1m6s\u001b[0m 116ms/step - accuracy: 0.8823 - loss: 0.3983 - val_accuracy: 0.7621 - val_loss: 0.5261\n",
            "Epoch 14/20\n",
            "\u001b[1m52/52\u001b[0m \u001b[32m━━━━━━━━━━━━━━━━━━━━\u001b[0m\u001b[37m\u001b[0m \u001b[1m8s\u001b[0m 155ms/step - accuracy: 0.9026 - loss: 0.3503 - val_accuracy: 0.7718 - val_loss: 0.5208\n",
            "Epoch 15/20\n",
            "\u001b[1m52/52\u001b[0m \u001b[32m━━━━━━━━━━━━━━━━━━━━\u001b[0m\u001b[37m\u001b[0m \u001b[1m8s\u001b[0m 117ms/step - accuracy: 0.9225 - loss: 0.3166 - val_accuracy: 0.7718 - val_loss: 0.5148\n",
            "Epoch 16/20\n",
            "\u001b[1m52/52\u001b[0m \u001b[32m━━━━━━━━━━━━━━━━━━━━\u001b[0m\u001b[37m\u001b[0m \u001b[1m8s\u001b[0m 156ms/step - accuracy: 0.9310 - loss: 0.2732 - val_accuracy: 0.7694 - val_loss: 0.5139\n",
            "Epoch 17/20\n",
            "\u001b[1m52/52\u001b[0m \u001b[32m━━━━━━━━━━━━━━━━━━━━\u001b[0m\u001b[37m\u001b[0m \u001b[1m6s\u001b[0m 115ms/step - accuracy: 0.9211 - loss: 0.2737 - val_accuracy: 0.7718 - val_loss: 0.5143\n",
            "Epoch 18/20\n",
            "\u001b[1m52/52\u001b[0m \u001b[32m━━━━━━━━━━━━━━━━━━━━\u001b[0m\u001b[37m\u001b[0m \u001b[1m8s\u001b[0m 155ms/step - accuracy: 0.9394 - loss: 0.2390 - val_accuracy: 0.7767 - val_loss: 0.5204\n",
            "Epoch 19/20\n",
            "\u001b[1m52/52\u001b[0m \u001b[32m━━━━━━━━━━━━━━━━━━━━\u001b[0m\u001b[37m\u001b[0m \u001b[1m9s\u001b[0m 134ms/step - accuracy: 0.9355 - loss: 0.2265 - val_accuracy: 0.7743 - val_loss: 0.5251\n"
          ]
        }
      ]
    },
    {
      "cell_type": "markdown",
      "source": [
        "**D3.** Plotting model accuracy and loss"
      ],
      "metadata": {
        "id": "tN-VdGRMqMUo"
      }
    },
    {
      "cell_type": "code",
      "source": [
        "#Model Accuracy\n",
        "plt.plot(history.history['accuracy'], label='Accuracy')\n",
        "plt.plot(history.history['val_accuracy'], label='Validation Accuracy')\n",
        "plt.title(\"Model Accuracy\")\n",
        "plt.xlabel(\"Epoch\")\n",
        "plt.legend()\n",
        "plt.show()"
      ],
      "metadata": {
        "colab": {
          "base_uri": "https://localhost:8080/",
          "height": 472
        },
        "id": "01ITxEwfqKCh",
        "outputId": "f4518e12-279b-4996-b0b1-34029d9e9da8"
      },
      "execution_count": 29,
      "outputs": [
        {
          "output_type": "display_data",
          "data": {
            "text/plain": [
              "<Figure size 640x480 with 1 Axes>"
            ],
            "image/png": "[encoded data removed]"
          },
          "metadata": {}
        }
      ]
    },
    {
      "cell_type": "code",
      "source": [
        "#Model Loss\n",
        "plt.plot(history.history['loss'], label='Loss')\n",
        "plt.plot(history.history['val_loss'], label='Validation Loss')\n",
        "plt.title(\"Model Loss\")\n",
        "plt.xlabel(\"Epoch\")\n",
        "plt.legend()\n",
        "plt.show()"
      ],
      "metadata": {
        "colab": {
          "base_uri": "https://localhost:8080/",
          "height": 472
        },
        "id": "i-Ok6lpyqK3P",
        "outputId": "ec3d97fe-29bd-4d6a-bd4b-2bfdcb978149"
      },
      "execution_count": 30,
      "outputs": [
        {
          "output_type": "display_data",
          "data": {
            "text/plain": [
              "<Figure size 640x480 with 1 Axes>"
            ],
            "image/png": "[encoded data removed]"
          },
          "metadata": {}
        }
      ]
    },
    {
      "cell_type": "markdown",
      "source": [
        "Evaluating the model using the test set"
      ],
      "metadata": {
        "id": "QuHtsaRHqfBt"
      }
    },
    {
      "cell_type": "markdown",
      "source": [
        "**D4.** The models accuracy is 76.06%"
      ],
      "metadata": {
        "id": "a8dfLpg94HD2"
      }
    },
    {
      "cell_type": "code",
      "source": [
        "model.evaluate(X_test, y_test)"
      ],
      "metadata": {
        "colab": {
          "base_uri": "https://localhost:8080/"
        },
        "id": "zMUkRl3ZqeYV",
        "outputId": "d288e07c-7051-4dee-a2e3-b3d6cc3b4803"
      },
      "execution_count": 31,
      "outputs": [
        {
          "output_type": "stream",
          "name": "stdout",
          "text": [
            "\u001b[1m13/13\u001b[0m \u001b[32m━━━━━━━━━━━━━━━━━━━━\u001b[0m\u001b[37m\u001b[0m \u001b[1m0s\u001b[0m 21ms/step - accuracy: 0.7703 - loss: 0.5475\n"
          ]
        },
        {
          "output_type": "execute_result",
          "data": {
            "text/plain": [
              "[0.5250909924507141, 0.7742718458175659]"
            ]
          },
          "metadata": {},
          "execution_count": 31
        }
      ]
    },
    {
      "cell_type": "code",
      "source": [
        "#saving the model\n",
        "model.save('sentiment_analysis_model.keras')"
      ],
      "metadata": {
        "id": "nm8aQnf3rT1T"
      },
      "execution_count": 32,
      "outputs": []
    },
    {
      "cell_type": "markdown",
      "source": [
        "In the following lines of code, I test two seperate sentences expecting to see a sentiment prediction of 1 or 0."
      ],
      "metadata": {
        "id": "Zrz4QIohrdhV"
      }
    },
    {
      "cell_type": "code",
      "source": [
        "def predict_sentiment(text):\n",
        "    tw= tokenizer.texts_to_sequences([text])\n",
        "    tw= pad_sequences(tw)\n",
        "    prediction= int(model.predict(tw).round().item())\n",
        "    print(\"Predicted label: \", prediction)"
      ],
      "metadata": {
        "id": "mLoCbc_grcTU"
      },
      "execution_count": 33,
      "outputs": []
    },
    {
      "cell_type": "code",
      "source": [
        "#Expecting a prediction of 1\n",
        "test_sentence1 = \"I love this camera\"\n",
        "predict_sentiment(test_sentence1)"
      ],
      "metadata": {
        "colab": {
          "base_uri": "https://localhost:8080/"
        },
        "id": "GQkp889grh_C",
        "outputId": "8e578a47-f9c8-4785-9e3e-61fd4b04bb3e"
      },
      "execution_count": 36,
      "outputs": [
        {
          "output_type": "stream",
          "name": "stdout",
          "text": [
            "\u001b[1m1/1\u001b[0m \u001b[32m━━━━━━━━━━━━━━━━━━━━\u001b[0m\u001b[37m\u001b[0m \u001b[1m0s\u001b[0m 38ms/step\n",
            "Predicted label:  1\n"
          ]
        }
      ]
    },
    {
      "cell_type": "code",
      "source": [
        "#Expecting a prediction of 0\n",
        "test_sentence2 = \"I hate this camera.\"\n",
        "predict_sentiment(test_sentence2)"
      ],
      "metadata": {
        "colab": {
          "base_uri": "https://localhost:8080/"
        },
        "id": "NrajOhgRrtUq",
        "outputId": "4327d821-8eeb-4b29-9cfc-e1b91c4f9e1d"
      },
      "execution_count": 37,
      "outputs": [
        {
          "output_type": "stream",
          "name": "stdout",
          "text": [
            "\u001b[1m1/1\u001b[0m \u001b[32m━━━━━━━━━━━━━━━━━━━━\u001b[0m\u001b[37m\u001b[0m \u001b[1m0s\u001b[0m 52ms/step\n",
            "Predicted label:  0\n"
          ]
        }
      ]
    },
    {
      "cell_type": "markdown",
      "source": [
        "#Part VI: Reporting"
      ],
      "metadata": {
        "id": "W5aH7vzPaCqy"
      }
    },
    {
      "cell_type": "markdown",
      "source": [
        "**H1.** The PDF file of this report will be included in the submission files."
      ],
      "metadata": {
        "id": "KUiQ9z82CIr7"
      }
    },
    {
      "cell_type": "markdown",
      "source": [
        "**I1.** Web Sources\n",
        "*   UCI Machine Learning Repository. (n.d.). Sentiment labelled sentences [Data set]. University of California, Irvine. https://archive.ics.uci.edu/dataset/331/sentiment+labelled+sentences\n",
        "\n",
        "*   GeeksforGeeks. (2025, March 10). Adam optimizer in TensorFlow. https://www.geeksforgeeks.org/adam-optimizer-in-tensorflow/#"
      ],
      "metadata": {
        "id": "L5IM0iPcF2BB"
      }
    },
    {
      "cell_type": "markdown",
      "source": [
        "**J1.** This code was adapted from the course webinar videos listed below.\n",
        "\n",
        "*   Sewell, W. (n.d.). D213 Webinar 3: Transition [Webinar]. Western Governors University. https://wgu.hosted.panopto.com/Panopto/Pages/Viewer.aspx?id=ea04fe77-3e3a-4293-8e9f-af7a00f22a8c\n",
        "*   Sewell, W. (n.d.). D213 SA Webinar 4 [Webinar]. Western Governors University. https://wgu.hosted.panopto.com/Panopto/Pages/Viewer.aspx?id=c2642337-7947-4e7c-aa8d-af7b01456876\n",
        "*   Sewell, W. (n.d.). Webinar 5 SA [Webinar]. Western Governors University. https://wgu.hosted.panopto.com/Panopto/Pages/Viewer.aspx?id=8502edc2-27b3-46ed-ab9c-af89012040ed\n",
        "*   Sewell, W. (n.d.). D213 Webinar 6 SA [Webinar]. Western Governors University. https://wgu.hosted.panopto.com/Panopto/Pages/Viewer.aspx?id=c3890312-a194-4f3a-b579-af8901300903\n",
        "\n",
        "\n",
        "\n",
        "\n",
        "\n",
        "\n",
        "\n",
        "\n",
        "\n",
        "\n",
        "\n"
      ],
      "metadata": {
        "id": "YIYXt-YmiuAc"
      }
    }
  ]
}