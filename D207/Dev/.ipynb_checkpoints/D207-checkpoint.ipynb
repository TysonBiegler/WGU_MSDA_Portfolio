{
 "cells": [
  {
   "cell_type": "markdown",
   "id": "b0a4c2fa",
   "metadata": {},
   "source": [
    "<div style=\"text-align: center;\">\n",
    "<h1>D207 Performance Assessment</h1>\n",
    "    <H3><i>Which independent variables are most impactful to churn?</i></H3>\n",
    "</div>\n",
    "<hr>\n",
    "<p><b>Tyson Biegler</b></p>\n",
    "<p>Student ID: <b><i>012170282</b></i></p>\n",
    "<p>D207 - Exploratory Data Analysis</p>\n",
    "<p>Date: --/--/2024</p>\n",
    "<br>\n",
    "<p>Western Governors University</p>\n",
    "<p>School of Technology, College of IT</p>\n",
    "<p>Master of Science, Data Analytics</p>\n",
    "\n",
    "\n"
   ]
  },
  {
   "cell_type": "markdown",
   "id": "d4fdf5d5",
   "metadata": {},
   "source": [
    "# A Describing the situation\n",
    "### A1. Research question\n",
    "I want to discover <b>\"which independant variables are most impactful to churn.\"</b>\n",
    "### A2. Benefits of analysis\n",
    "In the telecom industry, or any service industry for that matter, customers are the business. Customer service is essential to a thriving business.\n",
    "\n",
    "The data dictionary mentions that some telecom companies can experience a 25% churn rate, and therefore, investigating the factors that contribute to customer churn is of utmost importance. If stakeholders knew precisely which factors contributed to churn, based on statistical analysis, they would have data-driven insights that would enable them to make meaningful changes for their customers. Some of these insights could lead to adjusting pricing, offering incentives based on tenure, increase training in customer interactions, focus more or less on different demographics and so on. \n",
    "\n",
    "### A3. Identification of the data\n",
    "Because we will be investigating which factors impact customer churn, the dependant variable will be 'Churn.' 'Churn' is a categorical variable that consists of 'Yes' and 'No' values.\n",
    "\n",
    "<p style=\"color: red;\"><b>.... Add more variables here</b></p>\n",
    "children\n",
    "area\n",
    "age\n",
    "income\n",
    "marital\n",
    "gender\n",
    "outage_sec\n",
    "email\n",
    "contacts\n",
    "yearly_equip\n",
    "Techie\n",
    "Contract\n",
    "Port_modem\n",
    "Tablet\n",
    "InternetService\n",
    "Phone\n",
    "Multiple\n",
    "OnlineSecurity\n",
    "OnlineBackup\n",
    "DeviceProtection\n",
    "TechSupport\n",
    "StreamingTV\n",
    "StreamingMovies\n",
    "PaperlessBilling\n",
    "PaymentMethod\n",
    "Tenure\n",
    "MonthlyCharge\n",
    "Bandwidth_GB_Year\n",
    "\n",
    "\n",
    "\n",
    "Lastly, I will be using the survey response data. These survey responses are ordinal categorical data that consist of score ratings from one to eight (1 = most important, 8 = least important). \n"
   ]
  },
  {
   "cell_type": "code",
   "execution_count": 1,
   "id": "3af27950",
   "metadata": {},
   "outputs": [],
   "source": [
    "# Initial setup\n",
    "import numpy as np\n",
    "import matplotlib.pyplot as plt\n",
    "import pandas as pd\n",
    "pd.options.display.max_columns = None #So that I can see all the columns\n",
    "import statistics\n",
    "from scipy import stats\n",
    "import pylab as pl\n",
    "import statsmodels.api as sm\n",
    "import seaborn as sns\n",
    "\n",
    "from scipy.stats import chisquare\n",
    "from scipy.stats import chi2_contingency\n",
    "from scipy.stats import chi2\n"
   ]
  },
  {
   "cell_type": "code",
   "execution_count": 2,
   "id": "b4edaf5b",
   "metadata": {},
   "outputs": [
    {
     "data": {
      "text/html": [
       "<div>\n",
       "<style scoped>\n",
       "    .dataframe tbody tr th:only-of-type {\n",
       "        vertical-align: middle;\n",
       "    }\n",
       "\n",
       "    .dataframe tbody tr th {\n",
       "        vertical-align: top;\n",
       "    }\n",
       "\n",
       "    .dataframe thead th {\n",
       "        text-align: right;\n",
       "    }\n",
       "</style>\n",
       "<table border=\"1\" class=\"dataframe\">\n",
       "  <thead>\n",
       "    <tr style=\"text-align: right;\">\n",
       "      <th></th>\n",
       "      <th>CaseOrder</th>\n",
       "      <th>Customer_id</th>\n",
       "      <th>Interaction</th>\n",
       "      <th>UID</th>\n",
       "      <th>City</th>\n",
       "      <th>State</th>\n",
       "      <th>County</th>\n",
       "      <th>Zip</th>\n",
       "      <th>Lat</th>\n",
       "      <th>Lng</th>\n",
       "      <th>Population</th>\n",
       "      <th>Area</th>\n",
       "      <th>TimeZone</th>\n",
       "      <th>Job</th>\n",
       "      <th>Children</th>\n",
       "      <th>Age</th>\n",
       "      <th>Income</th>\n",
       "      <th>Marital</th>\n",
       "      <th>Gender</th>\n",
       "      <th>Churn</th>\n",
       "      <th>Outage_sec_perweek</th>\n",
       "      <th>Email</th>\n",
       "      <th>Contacts</th>\n",
       "      <th>Yearly_equip_failure</th>\n",
       "      <th>Techie</th>\n",
       "      <th>Contract</th>\n",
       "      <th>Port_modem</th>\n",
       "      <th>Tablet</th>\n",
       "      <th>InternetService</th>\n",
       "      <th>Phone</th>\n",
       "      <th>Multiple</th>\n",
       "      <th>OnlineSecurity</th>\n",
       "      <th>OnlineBackup</th>\n",
       "      <th>DeviceProtection</th>\n",
       "      <th>TechSupport</th>\n",
       "      <th>StreamingTV</th>\n",
       "      <th>StreamingMovies</th>\n",
       "      <th>PaperlessBilling</th>\n",
       "      <th>PaymentMethod</th>\n",
       "      <th>Tenure</th>\n",
       "      <th>MonthlyCharge</th>\n",
       "      <th>Bandwidth_GB_Year</th>\n",
       "      <th>Item1</th>\n",
       "      <th>Item2</th>\n",
       "      <th>Item3</th>\n",
       "      <th>Item4</th>\n",
       "      <th>Item5</th>\n",
       "      <th>Item6</th>\n",
       "      <th>Item7</th>\n",
       "      <th>Item8</th>\n",
       "    </tr>\n",
       "  </thead>\n",
       "  <tbody>\n",
       "    <tr>\n",
       "      <th>0</th>\n",
       "      <td>1</td>\n",
       "      <td>K409198</td>\n",
       "      <td>aa90260b-4141-4a24-8e36-b04ce1f4f77b</td>\n",
       "      <td>e885b299883d4f9fb18e39c75155d990</td>\n",
       "      <td>Point Baker</td>\n",
       "      <td>AK</td>\n",
       "      <td>Prince of Wales-Hyder</td>\n",
       "      <td>99927</td>\n",
       "      <td>56.25100</td>\n",
       "      <td>-133.37571</td>\n",
       "      <td>38</td>\n",
       "      <td>Urban</td>\n",
       "      <td>America/Sitka</td>\n",
       "      <td>Environmental health practitioner</td>\n",
       "      <td>0</td>\n",
       "      <td>68</td>\n",
       "      <td>28561.99</td>\n",
       "      <td>Widowed</td>\n",
       "      <td>Male</td>\n",
       "      <td>No</td>\n",
       "      <td>7.978323</td>\n",
       "      <td>10</td>\n",
       "      <td>0</td>\n",
       "      <td>1</td>\n",
       "      <td>No</td>\n",
       "      <td>One year</td>\n",
       "      <td>Yes</td>\n",
       "      <td>Yes</td>\n",
       "      <td>Fiber Optic</td>\n",
       "      <td>Yes</td>\n",
       "      <td>No</td>\n",
       "      <td>Yes</td>\n",
       "      <td>Yes</td>\n",
       "      <td>No</td>\n",
       "      <td>No</td>\n",
       "      <td>No</td>\n",
       "      <td>Yes</td>\n",
       "      <td>Yes</td>\n",
       "      <td>Credit Card (automatic)</td>\n",
       "      <td>6.795513</td>\n",
       "      <td>172.455519</td>\n",
       "      <td>904.536110</td>\n",
       "      <td>5</td>\n",
       "      <td>5</td>\n",
       "      <td>5</td>\n",
       "      <td>3</td>\n",
       "      <td>4</td>\n",
       "      <td>4</td>\n",
       "      <td>3</td>\n",
       "      <td>4</td>\n",
       "    </tr>\n",
       "    <tr>\n",
       "      <th>1</th>\n",
       "      <td>2</td>\n",
       "      <td>S120509</td>\n",
       "      <td>fb76459f-c047-4a9d-8af9-e0f7d4ac2524</td>\n",
       "      <td>f2de8bef964785f41a2959829830fb8a</td>\n",
       "      <td>West Branch</td>\n",
       "      <td>MI</td>\n",
       "      <td>Ogemaw</td>\n",
       "      <td>48661</td>\n",
       "      <td>44.32893</td>\n",
       "      <td>-84.24080</td>\n",
       "      <td>10446</td>\n",
       "      <td>Urban</td>\n",
       "      <td>America/Detroit</td>\n",
       "      <td>Programmer, multimedia</td>\n",
       "      <td>1</td>\n",
       "      <td>27</td>\n",
       "      <td>21704.77</td>\n",
       "      <td>Married</td>\n",
       "      <td>Female</td>\n",
       "      <td>Yes</td>\n",
       "      <td>11.699080</td>\n",
       "      <td>12</td>\n",
       "      <td>0</td>\n",
       "      <td>1</td>\n",
       "      <td>Yes</td>\n",
       "      <td>Month-to-month</td>\n",
       "      <td>No</td>\n",
       "      <td>Yes</td>\n",
       "      <td>Fiber Optic</td>\n",
       "      <td>Yes</td>\n",
       "      <td>Yes</td>\n",
       "      <td>Yes</td>\n",
       "      <td>No</td>\n",
       "      <td>No</td>\n",
       "      <td>No</td>\n",
       "      <td>Yes</td>\n",
       "      <td>Yes</td>\n",
       "      <td>Yes</td>\n",
       "      <td>Bank Transfer(automatic)</td>\n",
       "      <td>1.156681</td>\n",
       "      <td>242.632554</td>\n",
       "      <td>800.982766</td>\n",
       "      <td>3</td>\n",
       "      <td>4</td>\n",
       "      <td>3</td>\n",
       "      <td>3</td>\n",
       "      <td>4</td>\n",
       "      <td>3</td>\n",
       "      <td>4</td>\n",
       "      <td>4</td>\n",
       "    </tr>\n",
       "    <tr>\n",
       "      <th>2</th>\n",
       "      <td>3</td>\n",
       "      <td>K191035</td>\n",
       "      <td>344d114c-3736-4be5-98f7-c72c281e2d35</td>\n",
       "      <td>f1784cfa9f6d92ae816197eb175d3c71</td>\n",
       "      <td>Yamhill</td>\n",
       "      <td>OR</td>\n",
       "      <td>Yamhill</td>\n",
       "      <td>97148</td>\n",
       "      <td>45.35589</td>\n",
       "      <td>-123.24657</td>\n",
       "      <td>3735</td>\n",
       "      <td>Urban</td>\n",
       "      <td>America/Los_Angeles</td>\n",
       "      <td>Chief Financial Officer</td>\n",
       "      <td>4</td>\n",
       "      <td>50</td>\n",
       "      <td>9609.57</td>\n",
       "      <td>Widowed</td>\n",
       "      <td>Female</td>\n",
       "      <td>No</td>\n",
       "      <td>10.752800</td>\n",
       "      <td>9</td>\n",
       "      <td>0</td>\n",
       "      <td>1</td>\n",
       "      <td>Yes</td>\n",
       "      <td>Two Year</td>\n",
       "      <td>Yes</td>\n",
       "      <td>No</td>\n",
       "      <td>DSL</td>\n",
       "      <td>Yes</td>\n",
       "      <td>Yes</td>\n",
       "      <td>No</td>\n",
       "      <td>No</td>\n",
       "      <td>No</td>\n",
       "      <td>No</td>\n",
       "      <td>No</td>\n",
       "      <td>Yes</td>\n",
       "      <td>Yes</td>\n",
       "      <td>Credit Card (automatic)</td>\n",
       "      <td>15.754144</td>\n",
       "      <td>159.947583</td>\n",
       "      <td>2054.706961</td>\n",
       "      <td>4</td>\n",
       "      <td>4</td>\n",
       "      <td>2</td>\n",
       "      <td>4</td>\n",
       "      <td>4</td>\n",
       "      <td>3</td>\n",
       "      <td>3</td>\n",
       "      <td>3</td>\n",
       "    </tr>\n",
       "    <tr>\n",
       "      <th>3</th>\n",
       "      <td>4</td>\n",
       "      <td>D90850</td>\n",
       "      <td>abfa2b40-2d43-4994-b15a-989b8c79e311</td>\n",
       "      <td>dc8a365077241bb5cd5ccd305136b05e</td>\n",
       "      <td>Del Mar</td>\n",
       "      <td>CA</td>\n",
       "      <td>San Diego</td>\n",
       "      <td>92014</td>\n",
       "      <td>32.96687</td>\n",
       "      <td>-117.24798</td>\n",
       "      <td>13863</td>\n",
       "      <td>Suburban</td>\n",
       "      <td>America/Los_Angeles</td>\n",
       "      <td>Solicitor</td>\n",
       "      <td>1</td>\n",
       "      <td>48</td>\n",
       "      <td>18925.23</td>\n",
       "      <td>Married</td>\n",
       "      <td>Male</td>\n",
       "      <td>No</td>\n",
       "      <td>14.913540</td>\n",
       "      <td>15</td>\n",
       "      <td>2</td>\n",
       "      <td>0</td>\n",
       "      <td>Yes</td>\n",
       "      <td>Two Year</td>\n",
       "      <td>No</td>\n",
       "      <td>No</td>\n",
       "      <td>DSL</td>\n",
       "      <td>Yes</td>\n",
       "      <td>No</td>\n",
       "      <td>Yes</td>\n",
       "      <td>No</td>\n",
       "      <td>No</td>\n",
       "      <td>No</td>\n",
       "      <td>Yes</td>\n",
       "      <td>No</td>\n",
       "      <td>Yes</td>\n",
       "      <td>Mailed Check</td>\n",
       "      <td>17.087227</td>\n",
       "      <td>119.956840</td>\n",
       "      <td>2164.579412</td>\n",
       "      <td>4</td>\n",
       "      <td>4</td>\n",
       "      <td>4</td>\n",
       "      <td>2</td>\n",
       "      <td>5</td>\n",
       "      <td>4</td>\n",
       "      <td>3</td>\n",
       "      <td>3</td>\n",
       "    </tr>\n",
       "    <tr>\n",
       "      <th>4</th>\n",
       "      <td>5</td>\n",
       "      <td>K662701</td>\n",
       "      <td>68a861fd-0d20-4e51-a587-8a90407ee574</td>\n",
       "      <td>aabb64a116e83fdc4befc1fbab1663f9</td>\n",
       "      <td>Needville</td>\n",
       "      <td>TX</td>\n",
       "      <td>Fort Bend</td>\n",
       "      <td>77461</td>\n",
       "      <td>29.38012</td>\n",
       "      <td>-95.80673</td>\n",
       "      <td>11352</td>\n",
       "      <td>Suburban</td>\n",
       "      <td>America/Chicago</td>\n",
       "      <td>Medical illustrator</td>\n",
       "      <td>0</td>\n",
       "      <td>83</td>\n",
       "      <td>40074.19</td>\n",
       "      <td>Separated</td>\n",
       "      <td>Male</td>\n",
       "      <td>Yes</td>\n",
       "      <td>8.147417</td>\n",
       "      <td>16</td>\n",
       "      <td>2</td>\n",
       "      <td>1</td>\n",
       "      <td>No</td>\n",
       "      <td>Month-to-month</td>\n",
       "      <td>Yes</td>\n",
       "      <td>No</td>\n",
       "      <td>Fiber Optic</td>\n",
       "      <td>No</td>\n",
       "      <td>No</td>\n",
       "      <td>No</td>\n",
       "      <td>No</td>\n",
       "      <td>No</td>\n",
       "      <td>Yes</td>\n",
       "      <td>Yes</td>\n",
       "      <td>No</td>\n",
       "      <td>No</td>\n",
       "      <td>Mailed Check</td>\n",
       "      <td>1.670972</td>\n",
       "      <td>149.948316</td>\n",
       "      <td>271.493436</td>\n",
       "      <td>4</td>\n",
       "      <td>4</td>\n",
       "      <td>4</td>\n",
       "      <td>3</td>\n",
       "      <td>4</td>\n",
       "      <td>4</td>\n",
       "      <td>4</td>\n",
       "      <td>5</td>\n",
       "    </tr>\n",
       "  </tbody>\n",
       "</table>\n",
       "</div>"
      ],
      "text/plain": [
       "   CaseOrder Customer_id                           Interaction  \\\n",
       "0          1     K409198  aa90260b-4141-4a24-8e36-b04ce1f4f77b   \n",
       "1          2     S120509  fb76459f-c047-4a9d-8af9-e0f7d4ac2524   \n",
       "2          3     K191035  344d114c-3736-4be5-98f7-c72c281e2d35   \n",
       "3          4      D90850  abfa2b40-2d43-4994-b15a-989b8c79e311   \n",
       "4          5     K662701  68a861fd-0d20-4e51-a587-8a90407ee574   \n",
       "\n",
       "                                UID         City State                 County  \\\n",
       "0  e885b299883d4f9fb18e39c75155d990  Point Baker    AK  Prince of Wales-Hyder   \n",
       "1  f2de8bef964785f41a2959829830fb8a  West Branch    MI                 Ogemaw   \n",
       "2  f1784cfa9f6d92ae816197eb175d3c71      Yamhill    OR                Yamhill   \n",
       "3  dc8a365077241bb5cd5ccd305136b05e      Del Mar    CA              San Diego   \n",
       "4  aabb64a116e83fdc4befc1fbab1663f9    Needville    TX              Fort Bend   \n",
       "\n",
       "     Zip       Lat        Lng  Population      Area             TimeZone  \\\n",
       "0  99927  56.25100 -133.37571          38     Urban        America/Sitka   \n",
       "1  48661  44.32893  -84.24080       10446     Urban      America/Detroit   \n",
       "2  97148  45.35589 -123.24657        3735     Urban  America/Los_Angeles   \n",
       "3  92014  32.96687 -117.24798       13863  Suburban  America/Los_Angeles   \n",
       "4  77461  29.38012  -95.80673       11352  Suburban      America/Chicago   \n",
       "\n",
       "                                 Job  Children  Age    Income    Marital  \\\n",
       "0  Environmental health practitioner         0   68  28561.99    Widowed   \n",
       "1             Programmer, multimedia         1   27  21704.77    Married   \n",
       "2            Chief Financial Officer         4   50   9609.57    Widowed   \n",
       "3                          Solicitor         1   48  18925.23    Married   \n",
       "4                Medical illustrator         0   83  40074.19  Separated   \n",
       "\n",
       "   Gender Churn  Outage_sec_perweek  Email  Contacts  Yearly_equip_failure  \\\n",
       "0    Male    No            7.978323     10         0                     1   \n",
       "1  Female   Yes           11.699080     12         0                     1   \n",
       "2  Female    No           10.752800      9         0                     1   \n",
       "3    Male    No           14.913540     15         2                     0   \n",
       "4    Male   Yes            8.147417     16         2                     1   \n",
       "\n",
       "  Techie        Contract Port_modem Tablet InternetService Phone Multiple  \\\n",
       "0     No        One year        Yes    Yes     Fiber Optic   Yes       No   \n",
       "1    Yes  Month-to-month         No    Yes     Fiber Optic   Yes      Yes   \n",
       "2    Yes        Two Year        Yes     No             DSL   Yes      Yes   \n",
       "3    Yes        Two Year         No     No             DSL   Yes       No   \n",
       "4     No  Month-to-month        Yes     No     Fiber Optic    No       No   \n",
       "\n",
       "  OnlineSecurity OnlineBackup DeviceProtection TechSupport StreamingTV  \\\n",
       "0            Yes          Yes               No          No          No   \n",
       "1            Yes           No               No          No         Yes   \n",
       "2             No           No               No          No          No   \n",
       "3            Yes           No               No          No         Yes   \n",
       "4             No           No               No         Yes         Yes   \n",
       "\n",
       "  StreamingMovies PaperlessBilling             PaymentMethod     Tenure  \\\n",
       "0             Yes              Yes   Credit Card (automatic)   6.795513   \n",
       "1             Yes              Yes  Bank Transfer(automatic)   1.156681   \n",
       "2             Yes              Yes   Credit Card (automatic)  15.754144   \n",
       "3              No              Yes              Mailed Check  17.087227   \n",
       "4              No               No              Mailed Check   1.670972   \n",
       "\n",
       "   MonthlyCharge  Bandwidth_GB_Year  Item1  Item2  Item3  Item4  Item5  Item6  \\\n",
       "0     172.455519         904.536110      5      5      5      3      4      4   \n",
       "1     242.632554         800.982766      3      4      3      3      4      3   \n",
       "2     159.947583        2054.706961      4      4      2      4      4      3   \n",
       "3     119.956840        2164.579412      4      4      4      2      5      4   \n",
       "4     149.948316         271.493436      4      4      4      3      4      4   \n",
       "\n",
       "   Item7  Item8  \n",
       "0      3      4  \n",
       "1      4      4  \n",
       "2      3      3  \n",
       "3      3      3  \n",
       "4      4      5  "
      ]
     },
     "execution_count": 2,
     "metadata": {},
     "output_type": "execute_result"
    }
   ],
   "source": [
    "# importing csv\n",
    "df = pd.read_csv('C:/Users/tyson/Documents/GitHub/WGU_MSDA_Portfolio/D207/Raw/churn_clean.csv')\n",
    "df.head()"
   ]
  },
  {
   "cell_type": "code",
   "execution_count": 10,
   "id": "96bbb843",
   "metadata": {},
   "outputs": [
    {
     "name": "stdout",
     "output_type": "stream",
     "text": [
      "<class 'pandas.core.frame.DataFrame'>\n",
      "RangeIndex: 10000 entries, 0 to 9999\n",
      "Data columns (total 50 columns):\n",
      " #   Column                Non-Null Count  Dtype  \n",
      "---  ------                --------------  -----  \n",
      " 0   CaseOrder             10000 non-null  int64  \n",
      " 1   Customer_id           10000 non-null  object \n",
      " 2   Interaction           10000 non-null  object \n",
      " 3   UID                   10000 non-null  object \n",
      " 4   City                  10000 non-null  object \n",
      " 5   State                 10000 non-null  object \n",
      " 6   County                10000 non-null  object \n",
      " 7   Zip                   10000 non-null  int64  \n",
      " 8   Lat                   10000 non-null  float64\n",
      " 9   Lng                   10000 non-null  float64\n",
      " 10  Population            10000 non-null  int64  \n",
      " 11  Area                  10000 non-null  object \n",
      " 12  TimeZone              10000 non-null  object \n",
      " 13  Job                   10000 non-null  object \n",
      " 14  Children              10000 non-null  int64  \n",
      " 15  Age                   10000 non-null  int64  \n",
      " 16  Income                10000 non-null  float64\n",
      " 17  Marital               10000 non-null  object \n",
      " 18  Gender                10000 non-null  object \n",
      " 19  Churn                 10000 non-null  object \n",
      " 20  Outage_sec_perweek    10000 non-null  float64\n",
      " 21  Email                 10000 non-null  int64  \n",
      " 22  Contacts              10000 non-null  int64  \n",
      " 23  Yearly_equip_failure  10000 non-null  int64  \n",
      " 24  Techie                10000 non-null  object \n",
      " 25  Contract              10000 non-null  object \n",
      " 26  Port_modem            10000 non-null  object \n",
      " 27  Tablet                10000 non-null  object \n",
      " 28  InternetService       7871 non-null   object \n",
      " 29  Phone                 10000 non-null  object \n",
      " 30  Multiple              10000 non-null  object \n",
      " 31  OnlineSecurity        10000 non-null  object \n",
      " 32  OnlineBackup          10000 non-null  object \n",
      " 33  DeviceProtection      10000 non-null  object \n",
      " 34  TechSupport           10000 non-null  object \n",
      " 35  StreamingTV           10000 non-null  object \n",
      " 36  StreamingMovies       10000 non-null  object \n",
      " 37  PaperlessBilling      10000 non-null  object \n",
      " 38  PaymentMethod         10000 non-null  object \n",
      " 39  Tenure                10000 non-null  float64\n",
      " 40  MonthlyCharge         10000 non-null  float64\n",
      " 41  Bandwidth_GB_Year     10000 non-null  float64\n",
      " 42  Timely_response       10000 non-null  int64  \n",
      " 43  Timely_fixes          10000 non-null  int64  \n",
      " 44  Timely_replacements   10000 non-null  int64  \n",
      " 45  Reliability           10000 non-null  int64  \n",
      " 46  Options               10000 non-null  int64  \n",
      " 47  Respectful            10000 non-null  int64  \n",
      " 48  Courteous             10000 non-null  int64  \n",
      " 49  Active_listening      10000 non-null  int64  \n",
      "dtypes: float64(7), int64(16), object(27)\n",
      "memory usage: 3.8+ MB\n"
     ]
    }
   ],
   "source": [
    "df.info()"
   ]
  },
  {
   "cell_type": "code",
   "execution_count": 4,
   "id": "cc789287",
   "metadata": {
    "scrolled": true
   },
   "outputs": [
    {
     "data": {
      "text/plain": [
       "Index(['Timely_response', 'Timely_fixes', 'Timely_replacements', 'Reliability',\n",
       "       'Options', 'Respectful', 'Courteous', 'Active_listening'],\n",
       "      dtype='object')"
      ]
     },
     "execution_count": 4,
     "metadata": {},
     "output_type": "execute_result"
    }
   ],
   "source": [
    "#renaming the survey responses to be more intuitive\n",
    "df.rename(columns={'Item1':'Timely_response',\n",
    "                   'Item2':'Timely_fixes',\n",
    "                   'Item3':'Timely_replacements',\n",
    "                   'Item4':'Reliability',\n",
    "                   'Item5':'Options',\n",
    "                   'Item6':'Respectful',\n",
    "                   'Item7':'Courteous',\n",
    "                   'Item8':'Active_listening'\n",
    "                   },\n",
    "          inplace=True)\n",
    "\n",
    "df.columns[-8:] #making sure they were all changed correctly"
   ]
  },
  {
   "cell_type": "code",
   "execution_count": 5,
   "id": "8eb2ad0b",
   "metadata": {
    "scrolled": true
   },
   "outputs": [
    {
     "data": {
      "image/png": "[encoded data removed]",
      "text/plain": [
       "<Figure size 500x500 with 1 Axes>"
      ]
     },
     "metadata": {},
     "output_type": "display_data"
    }
   ],
   "source": [
    "plt.figure(figsize=(5,5))\n",
    "ax = sns.countplot(x=df['Churn'], linewidth=1)\n",
    "plt.show()"
   ]
  },
  {
   "cell_type": "code",
   "execution_count": null,
   "id": "2e3c9f15",
   "metadata": {
    "scrolled": true
   },
   "outputs": [],
   "source": [
    "#selecting the numerical independant variables\n",
    "num_ind_variables = [\n",
    "    'Children','Age', 'Income','Outage_sec_perweek', \n",
    "    'Email', 'Contacts', 'Yearly_equip_failure', 'Tenure', 'MonthlyCharge', 'Bandwidth_GB_Year', 'Timely_response','Timely_fixes',\n",
    "    'Timely_replacements','Reliability','Options','Respectful','Courteous','Active_listening'\n",
    "]\n",
    "\n",
    "#selecting the categorical independant variables\n",
    "cat_ind_variables = [\n",
    "    'Area','Marital', 'Gender','Techie', 'Contract', 'Port_modem', \n",
    "    'Tablet', 'InternetService', 'Phone', 'Multiple', 'OnlineSecurity', 'OnlineBackup', \n",
    "    'DeviceProtection', 'TechSupport', 'StreamingTV', 'StreamingMovies', 'PaperlessBilling', \n",
    "    'PaymentMethod'\n",
    "]\n",
    "\n",
    "# Filtering only the selected independent variables\n",
    "df_num_ind_variables = df[num_ind_variables]\n",
    "df_cat_ind_variables = df[cat_ind_variables]\n",
    "\n",
    "df_num_ind_variables.head()\n",
    "df_cat_ind_variables.head()\n",
    "\n"
   ]
  },
  {
   "cell_type": "code",
   "execution_count": null,
   "id": "cb128c5f",
   "metadata": {},
   "outputs": [],
   "source": [
    "df.columns"
   ]
  },
  {
   "cell_type": "markdown",
   "id": "5c8a366e",
   "metadata": {},
   "source": [
    "."
   ]
  },
  {
   "cell_type": "markdown",
   "id": "6c6e225f",
   "metadata": {},
   "source": [
    "monthlyyu, basndwhith, timelyresponse, courteious, | reliability, "
   ]
  },
  {
   "cell_type": "markdown",
   "id": "e843c8bd",
   "metadata": {},
   "source": [
    "."
   ]
  },
  {
   "cell_type": "markdown",
   "id": "1a7e62f9",
   "metadata": {},
   "source": [
    "."
   ]
  },
  {
   "cell_type": "markdown",
   "id": "2c231146",
   "metadata": {},
   "source": [
    "."
   ]
  },
  {
   "cell_type": "markdown",
   "id": "72db8ff6",
   "metadata": {},
   "source": [
    "."
   ]
  },
  {
   "cell_type": "markdown",
   "id": "c222eff7",
   "metadata": {},
   "source": [
    "."
   ]
  },
  {
   "cell_type": "markdown",
   "id": "af521d58",
   "metadata": {},
   "source": [
    "."
   ]
  },
  {
   "cell_type": "markdown",
   "id": "e7cf33f5",
   "metadata": {},
   "source": [
    "."
   ]
  },
  {
   "cell_type": "markdown",
   "id": "86a97716",
   "metadata": {},
   "source": [
    "."
   ]
  },
  {
   "cell_type": "markdown",
   "id": "834f9184",
   "metadata": {},
   "source": [
    "."
   ]
  },
  {
   "cell_type": "markdown",
   "id": "d8de00bb",
   "metadata": {},
   "source": [
    "."
   ]
  },
  {
   "cell_type": "markdown",
   "id": "1afbd7ff",
   "metadata": {},
   "source": [
    "."
   ]
  },
  {
   "cell_type": "code",
   "execution_count": null,
   "id": "62458225",
   "metadata": {},
   "outputs": [],
   "source": [
    "# Exporting to CSV\n",
    "df.to_csv('C:/Users/tyson/Documents/GitHub/WGU_MSDA_Portfolio/D207/Cleaned/D207PA.csv', index=False)"
   ]
  },
  {
   "cell_type": "markdown",
   "id": "38c9daad",
   "metadata": {},
   "source": [
    "."
   ]
  },
  {
   "cell_type": "markdown",
   "id": "a6c0544a",
   "metadata": {},
   "source": [
    "."
   ]
  },
  {
   "cell_type": "markdown",
   "id": "3100cafe",
   "metadata": {},
   "source": [
    "."
   ]
  },
  {
   "cell_type": "markdown",
   "id": "358069af",
   "metadata": {},
   "source": [
    "."
   ]
  },
  {
   "cell_type": "markdown",
   "id": "28e8e923",
   "metadata": {},
   "source": [
    "."
   ]
  },
  {
   "cell_type": "markdown",
   "id": "74ddfd8d",
   "metadata": {},
   "source": [
    "."
   ]
  },
  {
   "cell_type": "markdown",
   "id": "43aeec2f",
   "metadata": {},
   "source": [
    "."
   ]
  },
  {
   "cell_type": "markdown",
   "id": "c7c7b9da",
   "metadata": {},
   "source": [
    "."
   ]
  },
  {
   "cell_type": "markdown",
   "id": "f0fe9c5e",
   "metadata": {},
   "source": [
    "."
   ]
  },
  {
   "cell_type": "markdown",
   "id": "628491ac",
   "metadata": {},
   "source": [
    "."
   ]
  },
  {
   "cell_type": "markdown",
   "id": "fd949464",
   "metadata": {},
   "source": [
    "."
   ]
  },
  {
   "cell_type": "markdown",
   "id": "73315309",
   "metadata": {},
   "source": [
    "."
   ]
  },
  {
   "cell_type": "markdown",
   "id": "e3e2a4ef",
   "metadata": {},
   "source": [
    "."
   ]
  },
  {
   "cell_type": "markdown",
   "id": "20dd0360",
   "metadata": {},
   "source": [
    "."
   ]
  },
  {
   "cell_type": "markdown",
   "id": "f3f68b47",
   "metadata": {},
   "source": [
    "."
   ]
  },
  {
   "cell_type": "markdown",
   "id": "63733b0f",
   "metadata": {},
   "source": [
    "."
   ]
  },
  {
   "cell_type": "markdown",
   "id": "3fc2d16d",
   "metadata": {},
   "source": [
    "# Just for reference"
   ]
  },
  {
   "cell_type": "code",
   "execution_count": null,
   "id": "9803208d",
   "metadata": {},
   "outputs": [],
   "source": [
    "# T-test in python\n",
    "\n",
    "#sample data witha population size of 7\n",
    "# N = 7\n",
    "# a = (17,20,25,18,31,19,35)\n",
    "# b = (26,18,32,25,21,20,40)\n",
    "\n",
    "N=10000\n",
    "a=df_num_ind_variables\n",
    "b=df_cat_ind_variables\n",
    "\n",
    "# calculating the standard deviation\n",
    "#calculate the variance to get the standard deviation\n",
    "# for unbiased max liklihood estimate we have to divede the var by N-1\n",
    "var_a = statistics.variance(a) #calculating variance to get std dev\n",
    "var_b = statistics.variance(b)\n",
    "s = np.sqrt((var_a + var_b)/2)#standard deviation\n",
    "\n",
    "print('The mean of a is: ', statistics.mean(a))\n",
    "print('The mean of b is: ', statistics.mean(b))\n",
    "\n",
    "\n",
    "# calculate the t statistic\n",
    "t = (statistics.mean(a) - statistics.mean(b)) / (s * np.sqrt(2/N))\n",
    "\n",
    "# compare with the critical t-value\n",
    "#degrees of freedom\n",
    "df = (2*N) - 2\n",
    "\n",
    "#p-value after comparison with the t\n",
    "p = 1 - stats.t.cdf(t, df=df)\n",
    "\n",
    "print(\"t = \" + str(t))\n",
    "print(\"p = \" + str(2 * p))\n",
    "\n",
    "# you can see that after comparing the t statistic with the critical t value (computed internally)\n",
    "# cross checking with the internal scipy function\n",
    "\n",
    "# t2, p2 = stats.ttest_ind(a, b)\n",
    "# print(\"t = \" + str(t2))\n",
    "# print(\"p = \" + str(p2))\n",
    "\n"
   ]
  },
  {
   "cell_type": "code",
   "execution_count": null,
   "id": "9299c492",
   "metadata": {},
   "outputs": [],
   "source": [
    "# Q-Q plot in python\n",
    "a = (17,20,25,18,31,19,35)\n",
    "b = (26,18,32,25,21,20,40)\n",
    "\n",
    "stats.probplot(a, dist=\"norm\", plot=pl)\n",
    "pl.show()\n",
    "stats.probplot(b, dist=\"norm\", plot=pl)\n",
    "pl.show()"
   ]
  },
  {
   "cell_type": "code",
   "execution_count": null,
   "id": "66204642",
   "metadata": {},
   "outputs": [],
   "source": [
    "# Density plot in Python\n",
    "# a = (17,20,25,18,31,19,35)\n",
    "# b = (26,18,32,25,21,20,40)\n",
    "\n",
    "a=df_num_ind_variables\n",
    "b=df_cat_ind_variables\n",
    "\n",
    "\n",
    "#seaborn histogram\n",
    "sns.kdeplot(a, fill=True, linewidth=3, label='a')\n",
    "sns.kdeplot(b, fill=True, linewidth=3, label='b')\n",
    "\n",
    "#add labels\n",
    "plt.title('Density Plot of a, b')\n",
    "plt.xlabel('Range of Values')\n",
    "plt.ylabel('Freq.')\n",
    "\n",
    "#add legend\n",
    "plt.legend(['a', 'b'])\n"
   ]
  },
  {
   "cell_type": "code",
   "execution_count": null,
   "id": "b840d93c",
   "metadata": {},
   "outputs": [],
   "source": [
    "#Heatmap for corelation\n",
    "\n",
    "sns.heatmap(df.corr(), vmin=-1, vmax=1, Cmap = sns.diverging_palette(10,400,as_cmap=True))"
   ]
  }
 ],
 "metadata": {
  "kernelspec": {
   "display_name": "Python 3 (ipykernel)",
   "language": "python",
   "name": "python3"
  },
  "language_info": {
   "codemirror_mode": {
    "name": "ipython",
    "version": 3
   },
   "file_extension": ".py",
   "mimetype": "text/x-python",
   "name": "python",
   "nbconvert_exporter": "python",
   "pygments_lexer": "ipython3",
   "version": "3.11.5"
  }
 },
 "nbformat": 4,
 "nbformat_minor": 5
}
