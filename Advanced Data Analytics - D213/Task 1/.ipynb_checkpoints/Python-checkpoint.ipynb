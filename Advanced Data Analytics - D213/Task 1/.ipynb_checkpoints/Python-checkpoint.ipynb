{
 "cells": [
  {
   "cell_type": "code",
   "execution_count": 12,
   "id": "643e1d9d",
   "metadata": {},
   "outputs": [],
   "source": [
    "import pandas as pd\n",
    "import numpy as np\n",
    "from matplotlib.pyplot import figure\n",
    "import os\n",
    "\n",
    "os.chdir(r\"C:\\Users\\tyson\\Documents\\GitHub\\WGU_MSDA_Portfolio\\Advanced Data Analytics - D213\\Task 1\\Python\")\n"
   ]
  },
  {
   "cell_type": "code",
   "execution_count": 11,
   "id": "385147d4",
   "metadata": {
    "scrolled": true
   },
   "outputs": [
    {
     "data": {
      "text/plain": [
       "'C:\\\\Users\\\\tyson\\\\Documents\\\\GitHub\\\\WGU_MSDA_Portfolio\\\\Advanced Data Analytics - D213\\\\Task 1\\\\Python'"
      ]
     },
     "execution_count": 11,
     "metadata": {},
     "output_type": "execute_result"
    }
   ],
   "source": []
  }
 ],
 "metadata": {
  "kernelspec": {
   "display_name": "Python 3 (ipykernel)",
   "language": "python",
   "name": "python3"
  },
  "language_info": {
   "codemirror_mode": {
    "name": "ipython",
    "version": 3
   },
   "file_extension": ".py",
   "mimetype": "text/x-python",
   "name": "python",
   "nbconvert_exporter": "python",
   "pygments_lexer": "ipython3",
   "version": "3.11.5"
  }
 },
 "nbformat": 4,
 "nbformat_minor": 5
}
